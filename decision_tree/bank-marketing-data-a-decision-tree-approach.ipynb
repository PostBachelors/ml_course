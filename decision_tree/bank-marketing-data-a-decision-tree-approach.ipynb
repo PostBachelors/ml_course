{
 "cells": [
  {
   "cell_type": "code",
   "execution_count": 1,
   "metadata": {},
   "outputs": [
    {
     "data": {
      "text/html": [
       "<style>.container { width:100% !important; }</style>"
      ],
      "text/plain": [
       "<IPython.core.display.HTML object>"
      ]
     },
     "metadata": {},
     "output_type": "display_data"
    }
   ],
   "source": [
    "from IPython.core.display import display, HTML\n",
    "display(HTML(\"<style>.container { width:100% !important; }</style>\"))"
   ]
  },
  {
   "cell_type": "markdown",
   "metadata": {
    "_cell_guid": "e033a865-17a2-466a-8cde-a39cc6752deb",
    "_uuid": "c9e2806b423b6385a8d876545ab668324b6bb451"
   },
   "source": [
    "# Bank Marketing Data - A Decision Tree Approach"
   ]
  },
  {
   "cell_type": "markdown",
   "metadata": {
    "_cell_guid": "459ad1ed-0e10-4dd1-a4f1-893ba5368175",
    "_uuid": "08bb7d7c3677ca15a39a3569cef5d2071e9b015e"
   },
   "source": [
    "## Aim:\n",
    "The aim of this attempt is to predict if the client will subscribe (yes/no) to a term deposit, by building a classification model using Decision Tree.\n"
   ]
  },
  {
   "cell_type": "code",
   "execution_count": 2,
   "metadata": {
    "_cell_guid": "9e92f1a3-3e81-4ec6-a567-890827b0555c",
    "_uuid": "e5338e8c3fa6dc8f410d8b868aa78cb54621780b"
   },
   "outputs": [],
   "source": [
    "import pandas as pd\n",
    "import numpy as np\n",
    "import matplotlib.pyplot as plt\n",
    "import seaborn as sns\n",
    "from sklearn.cluster import KMeans\n",
    "from sklearn import datasets\n",
    "from io import StringIO\n",
    "from sklearn.tree import export_graphviz\n",
    "from sklearn.model_selection import train_test_split\n",
    "from sklearn import tree\n",
    "from sklearn import metrics\n",
    "%matplotlib inline"
   ]
  },
  {
   "cell_type": "code",
   "execution_count": 3,
   "metadata": {
    "_cell_guid": "52a87df3-04c2-4515-994a-9a3d0b85d3c3",
    "_uuid": "9700cff3c818070f8f202bc964e2a5ffc8c72aa5"
   },
   "outputs": [
    {
     "data": {
      "text/html": [
       "<div>\n",
       "<style scoped>\n",
       "    .dataframe tbody tr th:only-of-type {\n",
       "        vertical-align: middle;\n",
       "    }\n",
       "\n",
       "    .dataframe tbody tr th {\n",
       "        vertical-align: top;\n",
       "    }\n",
       "\n",
       "    .dataframe thead th {\n",
       "        text-align: right;\n",
       "    }\n",
       "</style>\n",
       "<table border=\"1\" class=\"dataframe\">\n",
       "  <thead>\n",
       "    <tr style=\"text-align: right;\">\n",
       "      <th></th>\n",
       "      <th>age</th>\n",
       "      <th>job</th>\n",
       "      <th>marital</th>\n",
       "      <th>education</th>\n",
       "      <th>default</th>\n",
       "      <th>balance</th>\n",
       "      <th>housing</th>\n",
       "      <th>loan</th>\n",
       "      <th>contact</th>\n",
       "      <th>day</th>\n",
       "      <th>month</th>\n",
       "      <th>duration</th>\n",
       "      <th>campaign</th>\n",
       "      <th>pdays</th>\n",
       "      <th>previous</th>\n",
       "      <th>poutcome</th>\n",
       "      <th>y</th>\n",
       "    </tr>\n",
       "  </thead>\n",
       "  <tbody>\n",
       "    <tr>\n",
       "      <th>0</th>\n",
       "      <td>30</td>\n",
       "      <td>unemployed</td>\n",
       "      <td>married</td>\n",
       "      <td>primary</td>\n",
       "      <td>no</td>\n",
       "      <td>1787</td>\n",
       "      <td>no</td>\n",
       "      <td>no</td>\n",
       "      <td>cellular</td>\n",
       "      <td>19</td>\n",
       "      <td>oct</td>\n",
       "      <td>79</td>\n",
       "      <td>1</td>\n",
       "      <td>-1</td>\n",
       "      <td>0</td>\n",
       "      <td>unknown</td>\n",
       "      <td>no</td>\n",
       "    </tr>\n",
       "    <tr>\n",
       "      <th>1</th>\n",
       "      <td>33</td>\n",
       "      <td>services</td>\n",
       "      <td>married</td>\n",
       "      <td>secondary</td>\n",
       "      <td>no</td>\n",
       "      <td>4789</td>\n",
       "      <td>yes</td>\n",
       "      <td>yes</td>\n",
       "      <td>cellular</td>\n",
       "      <td>11</td>\n",
       "      <td>may</td>\n",
       "      <td>220</td>\n",
       "      <td>1</td>\n",
       "      <td>339</td>\n",
       "      <td>4</td>\n",
       "      <td>failure</td>\n",
       "      <td>no</td>\n",
       "    </tr>\n",
       "    <tr>\n",
       "      <th>2</th>\n",
       "      <td>35</td>\n",
       "      <td>management</td>\n",
       "      <td>single</td>\n",
       "      <td>tertiary</td>\n",
       "      <td>no</td>\n",
       "      <td>1350</td>\n",
       "      <td>yes</td>\n",
       "      <td>no</td>\n",
       "      <td>cellular</td>\n",
       "      <td>16</td>\n",
       "      <td>apr</td>\n",
       "      <td>185</td>\n",
       "      <td>1</td>\n",
       "      <td>330</td>\n",
       "      <td>1</td>\n",
       "      <td>failure</td>\n",
       "      <td>no</td>\n",
       "    </tr>\n",
       "    <tr>\n",
       "      <th>3</th>\n",
       "      <td>30</td>\n",
       "      <td>management</td>\n",
       "      <td>married</td>\n",
       "      <td>tertiary</td>\n",
       "      <td>no</td>\n",
       "      <td>1476</td>\n",
       "      <td>yes</td>\n",
       "      <td>yes</td>\n",
       "      <td>unknown</td>\n",
       "      <td>3</td>\n",
       "      <td>jun</td>\n",
       "      <td>199</td>\n",
       "      <td>4</td>\n",
       "      <td>-1</td>\n",
       "      <td>0</td>\n",
       "      <td>unknown</td>\n",
       "      <td>no</td>\n",
       "    </tr>\n",
       "    <tr>\n",
       "      <th>4</th>\n",
       "      <td>59</td>\n",
       "      <td>blue-collar</td>\n",
       "      <td>married</td>\n",
       "      <td>secondary</td>\n",
       "      <td>no</td>\n",
       "      <td>0</td>\n",
       "      <td>yes</td>\n",
       "      <td>no</td>\n",
       "      <td>unknown</td>\n",
       "      <td>5</td>\n",
       "      <td>may</td>\n",
       "      <td>226</td>\n",
       "      <td>1</td>\n",
       "      <td>-1</td>\n",
       "      <td>0</td>\n",
       "      <td>unknown</td>\n",
       "      <td>no</td>\n",
       "    </tr>\n",
       "  </tbody>\n",
       "</table>\n",
       "</div>"
      ],
      "text/plain": [
       "   age          job  marital  education default  balance housing loan  \\\n",
       "0   30   unemployed  married    primary      no     1787      no   no   \n",
       "1   33     services  married  secondary      no     4789     yes  yes   \n",
       "2   35   management   single   tertiary      no     1350     yes   no   \n",
       "3   30   management  married   tertiary      no     1476     yes  yes   \n",
       "4   59  blue-collar  married  secondary      no        0     yes   no   \n",
       "\n",
       "    contact  day month  duration  campaign  pdays  previous poutcome   y  \n",
       "0  cellular   19   oct        79         1     -1         0  unknown  no  \n",
       "1  cellular   11   may       220         1    339         4  failure  no  \n",
       "2  cellular   16   apr       185         1    330         1  failure  no  \n",
       "3   unknown    3   jun       199         4     -1         0  unknown  no  \n",
       "4   unknown    5   may       226         1     -1         0  unknown  no  "
      ]
     },
     "execution_count": 3,
     "metadata": {},
     "output_type": "execute_result"
    }
   ],
   "source": [
    "# Load data file\n",
    "bank=pd.read_csv('data/bank/bank.csv', sep=';')\n",
    "bank.head()"
   ]
  },
  {
   "cell_type": "markdown",
   "metadata": {
    "_cell_guid": "a727fd41-6e6e-424f-b65f-18c723b289a9",
    "_uuid": "de29791be07bcac0927cccfb6e858044d1b882ca"
   },
   "source": [
    "## Summay of data\n",
    "\n",
    "### Categorical Variables :\n",
    "**[1] job      :** admin,technician, services, management, retired, blue-collar, unemployed, entrepreneur,\n",
    "               housemaid, unknown, self-employed, student\n",
    "<br>**[2] marital  :** married, single, divorced\n",
    "<br>**[3] education:** secondary, tertiary, primary, unknown\n",
    "<br>**[4] default  :** yes, no\n",
    "<br>**[5] housing  :** yes, no\n",
    "<br>**[6] loan     :** yes, no \n",
    "<br>**[7] deposit  :** yes, no ** (Dependent Variable)**\n",
    "<br>**[8] contact  :** unknown, cellular, telephone\n",
    "<br>**[9] month    :** jan, feb, mar, apr, may, jun, jul, aug, sep, oct, nov, dec\n",
    "<br>**[10] poutcome:** unknown, other, failure, success\n",
    "\n",
    "### Numerical Variables:\n",
    "**[1] age \n",
    "<br>[2] balance\n",
    "<br>[3] day\n",
    "<br>[4] duration\n",
    "<br>[5] campaign\n",
    "<br>[6] pdays\n",
    "<br>[7] previous **"
   ]
  },
  {
   "cell_type": "code",
   "execution_count": 4,
   "metadata": {
    "_cell_guid": "142f9bce-cf27-45c6-a776-0ad6e8c660c9",
    "_uuid": "f928d98a7f2c9fda54ee20d38b3d03101339e451"
   },
   "outputs": [
    {
     "data": {
      "text/plain": [
       "age          0\n",
       "job          0\n",
       "marital      0\n",
       "education    0\n",
       "default      0\n",
       "balance      0\n",
       "housing      0\n",
       "loan         0\n",
       "contact      0\n",
       "day          0\n",
       "month        0\n",
       "duration     0\n",
       "campaign     0\n",
       "pdays        0\n",
       "previous     0\n",
       "poutcome     0\n",
       "y            0\n",
       "dtype: int64"
      ]
     },
     "execution_count": 4,
     "metadata": {},
     "output_type": "execute_result"
    }
   ],
   "source": [
    "# Check if the data set contains any null values - Nothing found!\n",
    "bank[bank.isnull().any(axis=1)].count()"
   ]
  },
  {
   "cell_type": "code",
   "execution_count": 5,
   "metadata": {
    "_cell_guid": "a484827c-4ca4-42ce-895a-8228f4b86c31",
    "_uuid": "8d03c75ae5115ebc97a26ac95408240177c7fc3f"
   },
   "outputs": [
    {
     "data": {
      "text/html": [
       "<div>\n",
       "<style scoped>\n",
       "    .dataframe tbody tr th:only-of-type {\n",
       "        vertical-align: middle;\n",
       "    }\n",
       "\n",
       "    .dataframe tbody tr th {\n",
       "        vertical-align: top;\n",
       "    }\n",
       "\n",
       "    .dataframe thead th {\n",
       "        text-align: right;\n",
       "    }\n",
       "</style>\n",
       "<table border=\"1\" class=\"dataframe\">\n",
       "  <thead>\n",
       "    <tr style=\"text-align: right;\">\n",
       "      <th></th>\n",
       "      <th>age</th>\n",
       "      <th>balance</th>\n",
       "      <th>day</th>\n",
       "      <th>duration</th>\n",
       "      <th>campaign</th>\n",
       "      <th>pdays</th>\n",
       "      <th>previous</th>\n",
       "    </tr>\n",
       "  </thead>\n",
       "  <tbody>\n",
       "    <tr>\n",
       "      <th>count</th>\n",
       "      <td>4521.000000</td>\n",
       "      <td>4521.000000</td>\n",
       "      <td>4521.000000</td>\n",
       "      <td>4521.000000</td>\n",
       "      <td>4521.000000</td>\n",
       "      <td>4521.000000</td>\n",
       "      <td>4521.000000</td>\n",
       "    </tr>\n",
       "    <tr>\n",
       "      <th>mean</th>\n",
       "      <td>41.170095</td>\n",
       "      <td>1422.657819</td>\n",
       "      <td>15.915284</td>\n",
       "      <td>263.961292</td>\n",
       "      <td>2.793630</td>\n",
       "      <td>39.766645</td>\n",
       "      <td>0.542579</td>\n",
       "    </tr>\n",
       "    <tr>\n",
       "      <th>std</th>\n",
       "      <td>10.576211</td>\n",
       "      <td>3009.638142</td>\n",
       "      <td>8.247667</td>\n",
       "      <td>259.856633</td>\n",
       "      <td>3.109807</td>\n",
       "      <td>100.121124</td>\n",
       "      <td>1.693562</td>\n",
       "    </tr>\n",
       "    <tr>\n",
       "      <th>min</th>\n",
       "      <td>19.000000</td>\n",
       "      <td>-3313.000000</td>\n",
       "      <td>1.000000</td>\n",
       "      <td>4.000000</td>\n",
       "      <td>1.000000</td>\n",
       "      <td>-1.000000</td>\n",
       "      <td>0.000000</td>\n",
       "    </tr>\n",
       "    <tr>\n",
       "      <th>25%</th>\n",
       "      <td>33.000000</td>\n",
       "      <td>69.000000</td>\n",
       "      <td>9.000000</td>\n",
       "      <td>104.000000</td>\n",
       "      <td>1.000000</td>\n",
       "      <td>-1.000000</td>\n",
       "      <td>0.000000</td>\n",
       "    </tr>\n",
       "    <tr>\n",
       "      <th>50%</th>\n",
       "      <td>39.000000</td>\n",
       "      <td>444.000000</td>\n",
       "      <td>16.000000</td>\n",
       "      <td>185.000000</td>\n",
       "      <td>2.000000</td>\n",
       "      <td>-1.000000</td>\n",
       "      <td>0.000000</td>\n",
       "    </tr>\n",
       "    <tr>\n",
       "      <th>75%</th>\n",
       "      <td>49.000000</td>\n",
       "      <td>1480.000000</td>\n",
       "      <td>21.000000</td>\n",
       "      <td>329.000000</td>\n",
       "      <td>3.000000</td>\n",
       "      <td>-1.000000</td>\n",
       "      <td>0.000000</td>\n",
       "    </tr>\n",
       "    <tr>\n",
       "      <th>max</th>\n",
       "      <td>87.000000</td>\n",
       "      <td>71188.000000</td>\n",
       "      <td>31.000000</td>\n",
       "      <td>3025.000000</td>\n",
       "      <td>50.000000</td>\n",
       "      <td>871.000000</td>\n",
       "      <td>25.000000</td>\n",
       "    </tr>\n",
       "  </tbody>\n",
       "</table>\n",
       "</div>"
      ],
      "text/plain": [
       "               age       balance          day     duration     campaign  \\\n",
       "count  4521.000000   4521.000000  4521.000000  4521.000000  4521.000000   \n",
       "mean     41.170095   1422.657819    15.915284   263.961292     2.793630   \n",
       "std      10.576211   3009.638142     8.247667   259.856633     3.109807   \n",
       "min      19.000000  -3313.000000     1.000000     4.000000     1.000000   \n",
       "25%      33.000000     69.000000     9.000000   104.000000     1.000000   \n",
       "50%      39.000000    444.000000    16.000000   185.000000     2.000000   \n",
       "75%      49.000000   1480.000000    21.000000   329.000000     3.000000   \n",
       "max      87.000000  71188.000000    31.000000  3025.000000    50.000000   \n",
       "\n",
       "             pdays     previous  \n",
       "count  4521.000000  4521.000000  \n",
       "mean     39.766645     0.542579  \n",
       "std     100.121124     1.693562  \n",
       "min      -1.000000     0.000000  \n",
       "25%      -1.000000     0.000000  \n",
       "50%      -1.000000     0.000000  \n",
       "75%      -1.000000     0.000000  \n",
       "max     871.000000    25.000000  "
      ]
     },
     "execution_count": 5,
     "metadata": {},
     "output_type": "execute_result"
    }
   ],
   "source": [
    "bank.describe()"
   ]
  },
  {
   "cell_type": "code",
   "execution_count": 6,
   "metadata": {
    "_cell_guid": "e6ba8fa2-01b7-4367-a270-f1920256d5fa",
    "_uuid": "7903e72092085d476e25da6c9d8c21944828860e"
   },
   "outputs": [
    {
     "data": {
      "image/png": "[encoded data removed]",
      "text/plain": [
       "<Figure size 432x288 with 1 Axes>"
      ]
     },
     "metadata": {
      "needs_background": "light"
     },
     "output_type": "display_data"
    }
   ],
   "source": [
    "# Boxplot for 'age'\n",
    "g = sns.boxplot(x=bank[\"age\"])"
   ]
  },
  {
   "cell_type": "code",
   "execution_count": 7,
   "metadata": {
    "_cell_guid": "acc641bd-9106-4ad0-9bad-f2697c928a7b",
    "_uuid": "abb417d0393ff2fc1aabb4de00e3abdf62a6bee5"
   },
   "outputs": [
    {
     "data": {
      "text/plain": [
       "<matplotlib.axes._subplots.AxesSubplot at 0x7f2777d88908>"
      ]
     },
     "execution_count": 7,
     "metadata": {},
     "output_type": "execute_result"
    },
    {
     "data": {
      "image/png": "[encoded data removed]",
      "text/plain": [
       "<Figure size 432x288 with 1 Axes>"
      ]
     },
     "metadata": {
      "needs_background": "light"
     },
     "output_type": "display_data"
    }
   ],
   "source": [
    "# Distribution of Age\n",
    "sns.distplot(bank.age, bins=100)"
   ]
  },
  {
   "cell_type": "code",
   "execution_count": 8,
   "metadata": {
    "_cell_guid": "adfd247f-d1ca-4d7e-8051-68953444c45e",
    "_uuid": "2dee5b84f833a8dadecc5ad650b51bccef68171e"
   },
   "outputs": [
    {
     "data": {
      "image/png": "[encoded data removed]",
      "text/plain": [
       "<Figure size 432x288 with 1 Axes>"
      ]
     },
     "metadata": {
      "needs_background": "light"
     },
     "output_type": "display_data"
    }
   ],
   "source": [
    "# Boxplot for 'duration'\n",
    "g = sns.boxplot(x=bank[\"duration\"])"
   ]
  },
  {
   "cell_type": "code",
   "execution_count": 9,
   "metadata": {
    "_cell_guid": "42f62c14-5580-4d61-93ae-183544f8aed7",
    "_uuid": "c4fea6ac4146428ee87a210f0bcd3cd6bc635a46"
   },
   "outputs": [
    {
     "data": {
      "text/plain": [
       "<matplotlib.axes._subplots.AxesSubplot at 0x7f2777bf4d68>"
      ]
     },
     "execution_count": 9,
     "metadata": {},
     "output_type": "execute_result"
    },
    {
     "data": {
      "image/png": "[encoded data removed]",
      "text/plain": [
       "<Figure size 432x288 with 1 Axes>"
      ]
     },
     "metadata": {
      "needs_background": "light"
     },
     "output_type": "display_data"
    }
   ],
   "source": [
    "sns.distplot(bank.duration, bins=100)"
   ]
  },
  {
   "cell_type": "markdown",
   "metadata": {
    "_cell_guid": "f8e3b055-7d8e-4723-9e57-4a1e454ef194",
    "_uuid": "d8cf9f54203152a76a7e8a03c3003644eb59525f"
   },
   "source": [
    "### Convert categorical data"
   ]
  },
  {
   "cell_type": "code",
   "execution_count": 10,
   "metadata": {
    "_cell_guid": "353340bc-f258-4ca4-96ae-ce3dd6da9e4f",
    "_uuid": "fa62612c19f6f510de6155f1f279d6aa812b9d22"
   },
   "outputs": [],
   "source": [
    "# Make a copy for parsing\n",
    "bank_data = bank.copy()"
   ]
  },
  {
   "cell_type": "markdown",
   "metadata": {
    "_cell_guid": "2aaa6278-7388-461b-b0a6-7d0965872ca2",
    "_uuid": "753b4f0d672266ac598f1afe35952245951ac8b1"
   },
   "source": [
    "#### ------------------------------ job ------------------------------"
   ]
  },
  {
   "cell_type": "code",
   "execution_count": 11,
   "metadata": {},
   "outputs": [
    {
     "data": {
      "text/plain": [
       "Index(['age', 'job', 'marital', 'education', 'default', 'balance', 'housing',\n",
       "       'loan', 'contact', 'day', 'month', 'duration', 'campaign', 'pdays',\n",
       "       'previous', 'poutcome', 'y'],\n",
       "      dtype='object')"
      ]
     },
     "execution_count": 11,
     "metadata": {},
     "output_type": "execute_result"
    }
   ],
   "source": [
    "bank_data.columns"
   ]
  },
  {
   "cell_type": "code",
   "execution_count": 12,
   "metadata": {},
   "outputs": [
    {
     "name": "stdout",
     "output_type": "stream",
     "text": [
      "management      :   131\n",
      "blue-collar     :    69\n",
      "technician      :    83\n",
      "admin.          :    58\n",
      "services        :    38\n",
      "retired         :    54\n",
      "self-employed   :    20\n",
      "student         :    19\n",
      "unemployed      :    13\n",
      "entrepreneur    :    15\n",
      "housemaid       :    14\n",
      "unknown         :     7\n"
     ]
    }
   ],
   "source": [
    "# Explore People who made a deposit Vs Job category\n",
    "jobs = ['management','blue-collar','technician','admin.','services','retired','self-employed','student',\\\n",
    "        'unemployed','entrepreneur','housemaid','unknown']\n",
    "\n",
    "for j in jobs:\n",
    "    print(\"{:15} : {:5}\". format(j, len(bank_data[(bank_data.y == \"yes\") & (bank_data.job ==j)])))"
   ]
  },
  {
   "cell_type": "code",
   "execution_count": 13,
   "metadata": {
    "_cell_guid": "cf54d19e-ab5b-4b16-8c17-a1d441675e4e",
    "_uuid": "6c5d8eb98fc23a74d8e235d1816758e760ae7222"
   },
   "outputs": [
    {
     "data": {
      "text/plain": [
       "management       969\n",
       "blue-collar      946\n",
       "technician       768\n",
       "admin.           478\n",
       "services         417\n",
       "retired          230\n",
       "self-employed    183\n",
       "entrepreneur     168\n",
       "unemployed       128\n",
       "housemaid        112\n",
       "student           84\n",
       "unknown           38\n",
       "Name: job, dtype: int64"
      ]
     },
     "execution_count": 13,
     "metadata": {},
     "output_type": "execute_result"
    }
   ],
   "source": [
    "# Different types of job categories and their counts\n",
    "bank_data.job.value_counts()"
   ]
  },
  {
   "cell_type": "code",
   "execution_count": 14,
   "metadata": {
    "_cell_guid": "fdcd5741-12b8-4b48-99b6-bd6e834f0da9",
    "_uuid": "58840f83e0b4fb1ea28c8aaebc109359f21e86e1"
   },
   "outputs": [],
   "source": [
    "# Combine similar jobs into categiroes\n",
    "bank_data['job'] = bank_data['job'].replace(['management', 'admin.'], 'white-collar')\n",
    "bank_data['job'] = bank_data['job'].replace(['services','housemaid'], 'pink-collar')\n",
    "bank_data['job'] = bank_data['job'].replace(['retired', 'student', 'unemployed', 'unknown'], 'other')"
   ]
  },
  {
   "cell_type": "code",
   "execution_count": 15,
   "metadata": {
    "_cell_guid": "6c44a280-708c-472e-8a9d-454130ebd29f",
    "_uuid": "60184753637b373ef973a5c38cd15bf51a1e58ac"
   },
   "outputs": [
    {
     "data": {
      "text/plain": [
       "white-collar     1447\n",
       "blue-collar       946\n",
       "technician        768\n",
       "pink-collar       529\n",
       "other             480\n",
       "self-employed     183\n",
       "entrepreneur      168\n",
       "Name: job, dtype: int64"
      ]
     },
     "execution_count": 15,
     "metadata": {},
     "output_type": "execute_result"
    }
   ],
   "source": [
    "# New value counts\n",
    "bank_data.job.value_counts()"
   ]
  },
  {
   "cell_type": "markdown",
   "metadata": {
    "_cell_guid": "c446c4b5-d0ce-48e1-8ceb-6431e49ad97e",
    "_uuid": "36fcf9b5b0dc9374f7540f918be453ece6eec86e"
   },
   "source": [
    "#### ------------------------------ poutcome ------------------------------"
   ]
  },
  {
   "cell_type": "code",
   "execution_count": 16,
   "metadata": {
    "_cell_guid": "6516214b-7dab-4c4b-9abe-dd53db689a79",
    "_uuid": "791b50d069b7a06e57095974f5c9c0e0d0c9b55d"
   },
   "outputs": [
    {
     "data": {
      "text/plain": [
       "unknown    3705\n",
       "failure     490\n",
       "other       197\n",
       "success     129\n",
       "Name: poutcome, dtype: int64"
      ]
     },
     "execution_count": 16,
     "metadata": {},
     "output_type": "execute_result"
    }
   ],
   "source": [
    "bank_data.poutcome.value_counts()"
   ]
  },
  {
   "cell_type": "code",
   "execution_count": 17,
   "metadata": {
    "_cell_guid": "b827ea76-4adb-4472-9def-ebd268d5586f",
    "_uuid": "dd9bc0417c255963d08c7eb721dde66b32d406dc"
   },
   "outputs": [
    {
     "data": {
      "text/plain": [
       "unknown    3902\n",
       "failure     490\n",
       "success     129\n",
       "Name: poutcome, dtype: int64"
      ]
     },
     "execution_count": 17,
     "metadata": {},
     "output_type": "execute_result"
    }
   ],
   "source": [
    "# Combine 'unknown' and 'other' as 'other' isn't really match with either 'success' or 'failure'\n",
    "bank_data['poutcome'] = bank_data['poutcome'].replace(['other'] , 'unknown')\n",
    "bank_data.poutcome.value_counts()"
   ]
  },
  {
   "cell_type": "markdown",
   "metadata": {
    "_cell_guid": "643362de-18ca-45c2-95a9-6ca2c19f0144",
    "_uuid": "154cad1a97e082dea7fefef0084301c391b78bf9"
   },
   "source": [
    "#### ------------------------------ contact ------------------------------"
   ]
  },
  {
   "cell_type": "code",
   "execution_count": 18,
   "metadata": {
    "_cell_guid": "edf8d6c3-f66a-4521-bb82-13de0e175244",
    "_uuid": "7b3cd6910378c11f5edacde330f5a312d0f58d16"
   },
   "outputs": [],
   "source": [
    "# Drop 'contact', as every participant has been contacted. \n",
    "bank_data.drop('contact', axis=1, inplace=True)"
   ]
  },
  {
   "cell_type": "markdown",
   "metadata": {
    "_cell_guid": "167de291-a2df-4371-837b-25cc84121fc9",
    "_uuid": "8d519172290ca18fd70843a45677e0524b460a8c"
   },
   "source": [
    "#### ------------------------------ default ------------------------------"
   ]
  },
  {
   "cell_type": "code",
   "execution_count": 19,
   "metadata": {
    "_cell_guid": "9445241c-8d2f-4552-a879-f35bd08155ee",
    "_uuid": "35a4bc625d393ae0b38076c7bdb88e12be134acf"
   },
   "outputs": [],
   "source": [
    "# values for \"default\" : yes/no\n",
    "bank_data[\"default\"]\n",
    "bank_data['default_cat'] = bank_data['default'].map({'yes':1, 'no':0})\n",
    "bank_data.drop('default', axis=1,inplace = True)"
   ]
  },
  {
   "cell_type": "markdown",
   "metadata": {
    "_cell_guid": "e69fa9cf-4b44-450e-9c11-52edad2336c0",
    "_uuid": "71c97178c06dfb20561a6f4813eaf48f16270ed2"
   },
   "source": [
    "#### ------------------------------ housing ------------------------------"
   ]
  },
  {
   "cell_type": "code",
   "execution_count": 20,
   "metadata": {
    "_cell_guid": "9f33486b-6c4c-4a12-9174-54be5f788091",
    "_uuid": "5625dd9f23af740ce738cb5f1d45ca18dc4d3fe6"
   },
   "outputs": [],
   "source": [
    "# values for \"housing\" : yes/no\n",
    "bank_data[\"housing_cat\"]=bank_data['housing'].map({'yes':1, 'no':0})\n",
    "bank_data.drop('housing', axis=1,inplace = True)"
   ]
  },
  {
   "cell_type": "markdown",
   "metadata": {
    "_cell_guid": "f4be5aa2-9702-4b64-a732-b473ac696631",
    "_uuid": "dfae48f26206aa2f27803205e071841fa877307c"
   },
   "source": [
    "#### ------------------------------ loan ------------------------------"
   ]
  },
  {
   "cell_type": "code",
   "execution_count": 21,
   "metadata": {
    "_cell_guid": "c1b2dc72-ee07-4995-aa5e-e5bbd0a541b8",
    "_uuid": "557f3471b7552919b437e703005830585a715e56"
   },
   "outputs": [],
   "source": [
    "# values for \"loan\" : yes/no\n",
    "bank_data[\"loan_cat\"] = bank_data['loan'].map({'yes':1, 'no':0})\n",
    "bank_data.drop('loan', axis=1, inplace=True)"
   ]
  },
  {
   "cell_type": "markdown",
   "metadata": {
    "_cell_guid": "422662b8-94f4-4b1f-a61c-71dca5627c7c",
    "_uuid": "f94605bb3c4f22900794ad6b1d066d3808d9d5b1"
   },
   "source": [
    "#### ------------------------------ month, day ------------------------------"
   ]
  },
  {
   "cell_type": "code",
   "execution_count": 22,
   "metadata": {
    "_cell_guid": "a004d399-5d98-4767-a629-4008e834a501",
    "_uuid": "24b3d3f4534ea7b714743123dc7f1186d6c6165a"
   },
   "outputs": [],
   "source": [
    "# day  : last contact day of the month\n",
    "# month: last contact month of year\n",
    "# Drop 'month' and 'day' as they don't have any intrinsic meaning\n",
    "bank_data.drop('month', axis=1, inplace=True)\n",
    "bank_data.drop('day', axis=1, inplace=True)"
   ]
  },
  {
   "cell_type": "markdown",
   "metadata": {
    "_cell_guid": "3114fee4-f7f6-4bb3-9e9e-30080deacae8",
    "_uuid": "082214ade8f57c636812167b6b6f11a291209234"
   },
   "source": [
    "#### ------------------------------ deposit ------------------------------"
   ]
  },
  {
   "cell_type": "code",
   "execution_count": 24,
   "metadata": {
    "_cell_guid": "824acb7c-9ebb-4ec3-abc2-91b3a8dfbba8",
    "_uuid": "8983691ec985826964e224d851c47fa53d5189a3"
   },
   "outputs": [],
   "source": [
    "# values for \"deposit\" : yes/no\n",
    "bank_data[\"deposit_cat\"] = bank_data['y'].map({'yes':1, 'no':0})\n",
    "bank_data.drop('y', axis=1, inplace=True)"
   ]
  },
  {
   "cell_type": "markdown",
   "metadata": {
    "_cell_guid": "6a07560d-d8d6-44a7-bc40-e3fefe56c07a",
    "_uuid": "ae91146f0a733b46f2ffc929e6c15c637b5a5464"
   },
   "source": [
    "#### ------------------------------ pdays ------------------------------"
   ]
  },
  {
   "cell_type": "code",
   "execution_count": 25,
   "metadata": {
    "_cell_guid": "a0a43966-0a0a-4c87-9fbb-98753440475e",
    "_uuid": "a9285460820d03a8a46b00efa4ab5c0b7bfdfdba"
   },
   "outputs": [
    {
     "name": "stdout",
     "output_type": "stream",
     "text": [
      "Customers that have not been contacted before: 3705\n",
      "Maximum values on padys    : 871\n"
     ]
    }
   ],
   "source": [
    "# pdays: number of days that passed by after the client was last contacted from a previous campaign\n",
    "#       -1 means client was not previously contacted\n",
    "\n",
    "print(\"Customers that have not been contacted before:\", len(bank_data[bank_data.pdays==-1]))\n",
    "print(\"Maximum values on padys    :\", bank_data['pdays'].max())"
   ]
  },
  {
   "cell_type": "code",
   "execution_count": 26,
   "metadata": {
    "_cell_guid": "27c4a40d-a6e7-455f-85ef-db661c2f3bf6",
    "_uuid": "4a5ce52f6514b2c6a98a05496f464958bb08e6d1"
   },
   "outputs": [],
   "source": [
    "# Map padys=-1 into a large value (10000 is used) to indicate that it is so far in the past that it has no effect\n",
    "bank_data.loc[bank_data['pdays'] == -1, 'pdays'] = 10000"
   ]
  },
  {
   "cell_type": "code",
   "execution_count": 27,
   "metadata": {
    "_cell_guid": "dc334f4c-7756-42d0-884e-c87c8c205b72",
    "_uuid": "32aed7514950db77534edf31950599dd2de13174"
   },
   "outputs": [],
   "source": [
    "# Create a new column: recent_pdays \n",
    "bank_data['recent_pdays'] = np.where(bank_data['pdays'], 1/bank_data.pdays, 1/bank_data.pdays)\n",
    "\n",
    "# Drop 'pdays'\n",
    "bank_data.drop('pdays', axis=1, inplace = True)"
   ]
  },
  {
   "cell_type": "code",
   "execution_count": 28,
   "metadata": {
    "_cell_guid": "d081cff8-2b59-449e-aa9d-c47b95bf9f3b",
    "_uuid": "0fd651329be4e215dfe12e7d0dcd825081fc22bb"
   },
   "outputs": [
    {
     "data": {
      "text/html": [
       "<div>\n",
       "<style scoped>\n",
       "    .dataframe tbody tr th:only-of-type {\n",
       "        vertical-align: middle;\n",
       "    }\n",
       "\n",
       "    .dataframe tbody tr th {\n",
       "        vertical-align: top;\n",
       "    }\n",
       "\n",
       "    .dataframe thead th {\n",
       "        text-align: right;\n",
       "    }\n",
       "</style>\n",
       "<table border=\"1\" class=\"dataframe\">\n",
       "  <thead>\n",
       "    <tr style=\"text-align: right;\">\n",
       "      <th></th>\n",
       "      <th>age</th>\n",
       "      <th>job</th>\n",
       "      <th>marital</th>\n",
       "      <th>education</th>\n",
       "      <th>balance</th>\n",
       "      <th>duration</th>\n",
       "      <th>campaign</th>\n",
       "      <th>previous</th>\n",
       "      <th>poutcome</th>\n",
       "      <th>default_cat</th>\n",
       "      <th>housing_cat</th>\n",
       "      <th>loan_cat</th>\n",
       "      <th>deposit_cat</th>\n",
       "      <th>recent_pdays</th>\n",
       "    </tr>\n",
       "  </thead>\n",
       "  <tbody>\n",
       "    <tr>\n",
       "      <th>4516</th>\n",
       "      <td>33</td>\n",
       "      <td>pink-collar</td>\n",
       "      <td>married</td>\n",
       "      <td>secondary</td>\n",
       "      <td>-333</td>\n",
       "      <td>329</td>\n",
       "      <td>5</td>\n",
       "      <td>0</td>\n",
       "      <td>unknown</td>\n",
       "      <td>0</td>\n",
       "      <td>1</td>\n",
       "      <td>0</td>\n",
       "      <td>0</td>\n",
       "      <td>0.000100</td>\n",
       "    </tr>\n",
       "    <tr>\n",
       "      <th>4517</th>\n",
       "      <td>57</td>\n",
       "      <td>self-employed</td>\n",
       "      <td>married</td>\n",
       "      <td>tertiary</td>\n",
       "      <td>-3313</td>\n",
       "      <td>153</td>\n",
       "      <td>1</td>\n",
       "      <td>0</td>\n",
       "      <td>unknown</td>\n",
       "      <td>1</td>\n",
       "      <td>1</td>\n",
       "      <td>1</td>\n",
       "      <td>0</td>\n",
       "      <td>0.000100</td>\n",
       "    </tr>\n",
       "    <tr>\n",
       "      <th>4518</th>\n",
       "      <td>57</td>\n",
       "      <td>technician</td>\n",
       "      <td>married</td>\n",
       "      <td>secondary</td>\n",
       "      <td>295</td>\n",
       "      <td>151</td>\n",
       "      <td>11</td>\n",
       "      <td>0</td>\n",
       "      <td>unknown</td>\n",
       "      <td>0</td>\n",
       "      <td>0</td>\n",
       "      <td>0</td>\n",
       "      <td>0</td>\n",
       "      <td>0.000100</td>\n",
       "    </tr>\n",
       "    <tr>\n",
       "      <th>4519</th>\n",
       "      <td>28</td>\n",
       "      <td>blue-collar</td>\n",
       "      <td>married</td>\n",
       "      <td>secondary</td>\n",
       "      <td>1137</td>\n",
       "      <td>129</td>\n",
       "      <td>4</td>\n",
       "      <td>3</td>\n",
       "      <td>unknown</td>\n",
       "      <td>0</td>\n",
       "      <td>0</td>\n",
       "      <td>0</td>\n",
       "      <td>0</td>\n",
       "      <td>0.004739</td>\n",
       "    </tr>\n",
       "    <tr>\n",
       "      <th>4520</th>\n",
       "      <td>44</td>\n",
       "      <td>entrepreneur</td>\n",
       "      <td>single</td>\n",
       "      <td>tertiary</td>\n",
       "      <td>1136</td>\n",
       "      <td>345</td>\n",
       "      <td>2</td>\n",
       "      <td>7</td>\n",
       "      <td>unknown</td>\n",
       "      <td>0</td>\n",
       "      <td>1</td>\n",
       "      <td>1</td>\n",
       "      <td>0</td>\n",
       "      <td>0.004016</td>\n",
       "    </tr>\n",
       "  </tbody>\n",
       "</table>\n",
       "</div>"
      ],
      "text/plain": [
       "      age            job  marital  education  balance  duration  campaign  \\\n",
       "4516   33    pink-collar  married  secondary     -333       329         5   \n",
       "4517   57  self-employed  married   tertiary    -3313       153         1   \n",
       "4518   57     technician  married  secondary      295       151        11   \n",
       "4519   28    blue-collar  married  secondary     1137       129         4   \n",
       "4520   44   entrepreneur   single   tertiary     1136       345         2   \n",
       "\n",
       "      previous poutcome  default_cat  housing_cat  loan_cat  deposit_cat  \\\n",
       "4516         0  unknown            0            1         0            0   \n",
       "4517         0  unknown            1            1         1            0   \n",
       "4518         0  unknown            0            0         0            0   \n",
       "4519         3  unknown            0            0         0            0   \n",
       "4520         7  unknown            0            1         1            0   \n",
       "\n",
       "      recent_pdays  \n",
       "4516      0.000100  \n",
       "4517      0.000100  \n",
       "4518      0.000100  \n",
       "4519      0.004739  \n",
       "4520      0.004016  "
      ]
     },
     "execution_count": 28,
     "metadata": {},
     "output_type": "execute_result"
    }
   ],
   "source": [
    "bank_data.tail()"
   ]
  },
  {
   "cell_type": "markdown",
   "metadata": {
    "_cell_guid": "675e8d8f-2e23-4976-a7e9-fdb0d4983393",
    "_uuid": "6c0309015c140816d4fc83ce6af0d47daa6ac0f0"
   },
   "source": [
    "### ------------------------------ Convert to dummy values ------------------------------"
   ]
  },
  {
   "cell_type": "code",
   "execution_count": 29,
   "metadata": {
    "_cell_guid": "65a1ee10-aa81-4e44-b159-88f426ad0ae3",
    "_uuid": "63ac123483934cbc0e3703950e9cd7860184e985"
   },
   "outputs": [
    {
     "data": {
      "text/html": [
       "<div>\n",
       "<style scoped>\n",
       "    .dataframe tbody tr th:only-of-type {\n",
       "        vertical-align: middle;\n",
       "    }\n",
       "\n",
       "    .dataframe tbody tr th {\n",
       "        vertical-align: top;\n",
       "    }\n",
       "\n",
       "    .dataframe thead th {\n",
       "        text-align: right;\n",
       "    }\n",
       "</style>\n",
       "<table border=\"1\" class=\"dataframe\">\n",
       "  <thead>\n",
       "    <tr style=\"text-align: right;\">\n",
       "      <th></th>\n",
       "      <th>age</th>\n",
       "      <th>balance</th>\n",
       "      <th>duration</th>\n",
       "      <th>campaign</th>\n",
       "      <th>previous</th>\n",
       "      <th>default_cat</th>\n",
       "      <th>housing_cat</th>\n",
       "      <th>loan_cat</th>\n",
       "      <th>deposit_cat</th>\n",
       "      <th>recent_pdays</th>\n",
       "      <th>...</th>\n",
       "      <th>marital_divorced</th>\n",
       "      <th>marital_married</th>\n",
       "      <th>marital_single</th>\n",
       "      <th>education_primary</th>\n",
       "      <th>education_secondary</th>\n",
       "      <th>education_tertiary</th>\n",
       "      <th>education_unknown</th>\n",
       "      <th>poutcome_failure</th>\n",
       "      <th>poutcome_success</th>\n",
       "      <th>poutcome_unknown</th>\n",
       "    </tr>\n",
       "  </thead>\n",
       "  <tbody>\n",
       "    <tr>\n",
       "      <th>0</th>\n",
       "      <td>30</td>\n",
       "      <td>1787</td>\n",
       "      <td>79</td>\n",
       "      <td>1</td>\n",
       "      <td>0</td>\n",
       "      <td>0</td>\n",
       "      <td>0</td>\n",
       "      <td>0</td>\n",
       "      <td>0</td>\n",
       "      <td>0.00010</td>\n",
       "      <td>...</td>\n",
       "      <td>0</td>\n",
       "      <td>1</td>\n",
       "      <td>0</td>\n",
       "      <td>1</td>\n",
       "      <td>0</td>\n",
       "      <td>0</td>\n",
       "      <td>0</td>\n",
       "      <td>0</td>\n",
       "      <td>0</td>\n",
       "      <td>1</td>\n",
       "    </tr>\n",
       "    <tr>\n",
       "      <th>1</th>\n",
       "      <td>33</td>\n",
       "      <td>4789</td>\n",
       "      <td>220</td>\n",
       "      <td>1</td>\n",
       "      <td>4</td>\n",
       "      <td>0</td>\n",
       "      <td>1</td>\n",
       "      <td>1</td>\n",
       "      <td>0</td>\n",
       "      <td>0.00295</td>\n",
       "      <td>...</td>\n",
       "      <td>0</td>\n",
       "      <td>1</td>\n",
       "      <td>0</td>\n",
       "      <td>0</td>\n",
       "      <td>1</td>\n",
       "      <td>0</td>\n",
       "      <td>0</td>\n",
       "      <td>1</td>\n",
       "      <td>0</td>\n",
       "      <td>0</td>\n",
       "    </tr>\n",
       "    <tr>\n",
       "      <th>2</th>\n",
       "      <td>35</td>\n",
       "      <td>1350</td>\n",
       "      <td>185</td>\n",
       "      <td>1</td>\n",
       "      <td>1</td>\n",
       "      <td>0</td>\n",
       "      <td>1</td>\n",
       "      <td>0</td>\n",
       "      <td>0</td>\n",
       "      <td>0.00303</td>\n",
       "      <td>...</td>\n",
       "      <td>0</td>\n",
       "      <td>0</td>\n",
       "      <td>1</td>\n",
       "      <td>0</td>\n",
       "      <td>0</td>\n",
       "      <td>1</td>\n",
       "      <td>0</td>\n",
       "      <td>1</td>\n",
       "      <td>0</td>\n",
       "      <td>0</td>\n",
       "    </tr>\n",
       "    <tr>\n",
       "      <th>3</th>\n",
       "      <td>30</td>\n",
       "      <td>1476</td>\n",
       "      <td>199</td>\n",
       "      <td>4</td>\n",
       "      <td>0</td>\n",
       "      <td>0</td>\n",
       "      <td>1</td>\n",
       "      <td>1</td>\n",
       "      <td>0</td>\n",
       "      <td>0.00010</td>\n",
       "      <td>...</td>\n",
       "      <td>0</td>\n",
       "      <td>1</td>\n",
       "      <td>0</td>\n",
       "      <td>0</td>\n",
       "      <td>0</td>\n",
       "      <td>1</td>\n",
       "      <td>0</td>\n",
       "      <td>0</td>\n",
       "      <td>0</td>\n",
       "      <td>1</td>\n",
       "    </tr>\n",
       "    <tr>\n",
       "      <th>4</th>\n",
       "      <td>59</td>\n",
       "      <td>0</td>\n",
       "      <td>226</td>\n",
       "      <td>1</td>\n",
       "      <td>0</td>\n",
       "      <td>0</td>\n",
       "      <td>1</td>\n",
       "      <td>0</td>\n",
       "      <td>0</td>\n",
       "      <td>0.00010</td>\n",
       "      <td>...</td>\n",
       "      <td>0</td>\n",
       "      <td>1</td>\n",
       "      <td>0</td>\n",
       "      <td>0</td>\n",
       "      <td>1</td>\n",
       "      <td>0</td>\n",
       "      <td>0</td>\n",
       "      <td>0</td>\n",
       "      <td>0</td>\n",
       "      <td>1</td>\n",
       "    </tr>\n",
       "  </tbody>\n",
       "</table>\n",
       "<p>5 rows × 27 columns</p>\n",
       "</div>"
      ],
      "text/plain": [
       "   age  balance  duration  campaign  previous  default_cat  housing_cat  \\\n",
       "0   30     1787        79         1         0            0            0   \n",
       "1   33     4789       220         1         4            0            1   \n",
       "2   35     1350       185         1         1            0            1   \n",
       "3   30     1476       199         4         0            0            1   \n",
       "4   59        0       226         1         0            0            1   \n",
       "\n",
       "   loan_cat  deposit_cat  recent_pdays  ...  marital_divorced  \\\n",
       "0         0            0       0.00010  ...                 0   \n",
       "1         1            0       0.00295  ...                 0   \n",
       "2         0            0       0.00303  ...                 0   \n",
       "3         1            0       0.00010  ...                 0   \n",
       "4         0            0       0.00010  ...                 0   \n",
       "\n",
       "   marital_married  marital_single  education_primary  education_secondary  \\\n",
       "0                1               0                  1                    0   \n",
       "1                1               0                  0                    1   \n",
       "2                0               1                  0                    0   \n",
       "3                1               0                  0                    0   \n",
       "4                1               0                  0                    1   \n",
       "\n",
       "   education_tertiary  education_unknown  poutcome_failure  poutcome_success  \\\n",
       "0                   0                  0                 0                 0   \n",
       "1                   0                  0                 1                 0   \n",
       "2                   1                  0                 1                 0   \n",
       "3                   1                  0                 0                 0   \n",
       "4                   0                  0                 0                 0   \n",
       "\n",
       "   poutcome_unknown  \n",
       "0                 1  \n",
       "1                 0  \n",
       "2                 0  \n",
       "3                 1  \n",
       "4                 1  \n",
       "\n",
       "[5 rows x 27 columns]"
      ]
     },
     "execution_count": 29,
     "metadata": {},
     "output_type": "execute_result"
    }
   ],
   "source": [
    "# Convert categorical variables to dummies\n",
    "bank_with_dummies = pd.get_dummies(data=bank_data, columns = ['job', 'marital', 'education', 'poutcome'], \\\n",
    "                                   prefix = ['job', 'marital', 'education', 'poutcome'])\n",
    "bank_with_dummies.head()"
   ]
  },
  {
   "cell_type": "code",
   "execution_count": 30,
   "metadata": {
    "_cell_guid": "dc46d20e-db1f-41cc-a0c4-bea3f800235e",
    "_uuid": "5fae26f3d9d4c343d75d90163ebb54f64c4d798e"
   },
   "outputs": [
    {
     "data": {
      "text/plain": [
       "(4521, 27)"
      ]
     },
     "execution_count": 30,
     "metadata": {},
     "output_type": "execute_result"
    }
   ],
   "source": [
    "bank_with_dummies.shape"
   ]
  },
  {
   "cell_type": "code",
   "execution_count": 31,
   "metadata": {
    "_cell_guid": "8daac786-1fcd-4dd5-b789-8dbb96011c44",
    "_uuid": "b9018d84ec2eae5368860f237e47e00473deeb05"
   },
   "outputs": [
    {
     "data": {
      "text/html": [
       "<div>\n",
       "<style scoped>\n",
       "    .dataframe tbody tr th:only-of-type {\n",
       "        vertical-align: middle;\n",
       "    }\n",
       "\n",
       "    .dataframe tbody tr th {\n",
       "        vertical-align: top;\n",
       "    }\n",
       "\n",
       "    .dataframe thead th {\n",
       "        text-align: right;\n",
       "    }\n",
       "</style>\n",
       "<table border=\"1\" class=\"dataframe\">\n",
       "  <thead>\n",
       "    <tr style=\"text-align: right;\">\n",
       "      <th></th>\n",
       "      <th>age</th>\n",
       "      <th>balance</th>\n",
       "      <th>duration</th>\n",
       "      <th>campaign</th>\n",
       "      <th>previous</th>\n",
       "      <th>default_cat</th>\n",
       "      <th>housing_cat</th>\n",
       "      <th>loan_cat</th>\n",
       "      <th>deposit_cat</th>\n",
       "      <th>recent_pdays</th>\n",
       "      <th>...</th>\n",
       "      <th>marital_divorced</th>\n",
       "      <th>marital_married</th>\n",
       "      <th>marital_single</th>\n",
       "      <th>education_primary</th>\n",
       "      <th>education_secondary</th>\n",
       "      <th>education_tertiary</th>\n",
       "      <th>education_unknown</th>\n",
       "      <th>poutcome_failure</th>\n",
       "      <th>poutcome_success</th>\n",
       "      <th>poutcome_unknown</th>\n",
       "    </tr>\n",
       "  </thead>\n",
       "  <tbody>\n",
       "    <tr>\n",
       "      <th>count</th>\n",
       "      <td>4521.000000</td>\n",
       "      <td>4521.000000</td>\n",
       "      <td>4521.000000</td>\n",
       "      <td>4521.000000</td>\n",
       "      <td>4521.000000</td>\n",
       "      <td>4521.000000</td>\n",
       "      <td>4521.000000</td>\n",
       "      <td>4521.000000</td>\n",
       "      <td>4521.000000</td>\n",
       "      <td>4521.000000</td>\n",
       "      <td>...</td>\n",
       "      <td>4521.000000</td>\n",
       "      <td>4521.000000</td>\n",
       "      <td>4521.000000</td>\n",
       "      <td>4521.000000</td>\n",
       "      <td>4521.000000</td>\n",
       "      <td>4521.000000</td>\n",
       "      <td>4521.000000</td>\n",
       "      <td>4521.000000</td>\n",
       "      <td>4521.000000</td>\n",
       "      <td>4521.000000</td>\n",
       "    </tr>\n",
       "    <tr>\n",
       "      <th>mean</th>\n",
       "      <td>41.170095</td>\n",
       "      <td>1422.657819</td>\n",
       "      <td>263.961292</td>\n",
       "      <td>2.793630</td>\n",
       "      <td>0.542579</td>\n",
       "      <td>0.016810</td>\n",
       "      <td>0.566025</td>\n",
       "      <td>0.152842</td>\n",
       "      <td>0.115240</td>\n",
       "      <td>0.002533</td>\n",
       "      <td>...</td>\n",
       "      <td>0.116788</td>\n",
       "      <td>0.618668</td>\n",
       "      <td>0.264543</td>\n",
       "      <td>0.149967</td>\n",
       "      <td>0.510064</td>\n",
       "      <td>0.298607</td>\n",
       "      <td>0.041363</td>\n",
       "      <td>0.108383</td>\n",
       "      <td>0.028534</td>\n",
       "      <td>0.863083</td>\n",
       "    </tr>\n",
       "    <tr>\n",
       "      <th>std</th>\n",
       "      <td>10.576211</td>\n",
       "      <td>3009.638142</td>\n",
       "      <td>259.856633</td>\n",
       "      <td>3.109807</td>\n",
       "      <td>1.693562</td>\n",
       "      <td>0.128575</td>\n",
       "      <td>0.495676</td>\n",
       "      <td>0.359875</td>\n",
       "      <td>0.319347</td>\n",
       "      <td>0.029633</td>\n",
       "      <td>...</td>\n",
       "      <td>0.321203</td>\n",
       "      <td>0.485767</td>\n",
       "      <td>0.441138</td>\n",
       "      <td>0.357078</td>\n",
       "      <td>0.499954</td>\n",
       "      <td>0.457697</td>\n",
       "      <td>0.199149</td>\n",
       "      <td>0.310898</td>\n",
       "      <td>0.166510</td>\n",
       "      <td>0.343797</td>\n",
       "    </tr>\n",
       "    <tr>\n",
       "      <th>min</th>\n",
       "      <td>19.000000</td>\n",
       "      <td>-3313.000000</td>\n",
       "      <td>4.000000</td>\n",
       "      <td>1.000000</td>\n",
       "      <td>0.000000</td>\n",
       "      <td>0.000000</td>\n",
       "      <td>0.000000</td>\n",
       "      <td>0.000000</td>\n",
       "      <td>0.000000</td>\n",
       "      <td>0.000100</td>\n",
       "      <td>...</td>\n",
       "      <td>0.000000</td>\n",
       "      <td>0.000000</td>\n",
       "      <td>0.000000</td>\n",
       "      <td>0.000000</td>\n",
       "      <td>0.000000</td>\n",
       "      <td>0.000000</td>\n",
       "      <td>0.000000</td>\n",
       "      <td>0.000000</td>\n",
       "      <td>0.000000</td>\n",
       "      <td>0.000000</td>\n",
       "    </tr>\n",
       "    <tr>\n",
       "      <th>25%</th>\n",
       "      <td>33.000000</td>\n",
       "      <td>69.000000</td>\n",
       "      <td>104.000000</td>\n",
       "      <td>1.000000</td>\n",
       "      <td>0.000000</td>\n",
       "      <td>0.000000</td>\n",
       "      <td>0.000000</td>\n",
       "      <td>0.000000</td>\n",
       "      <td>0.000000</td>\n",
       "      <td>0.000100</td>\n",
       "      <td>...</td>\n",
       "      <td>0.000000</td>\n",
       "      <td>0.000000</td>\n",
       "      <td>0.000000</td>\n",
       "      <td>0.000000</td>\n",
       "      <td>0.000000</td>\n",
       "      <td>0.000000</td>\n",
       "      <td>0.000000</td>\n",
       "      <td>0.000000</td>\n",
       "      <td>0.000000</td>\n",
       "      <td>1.000000</td>\n",
       "    </tr>\n",
       "    <tr>\n",
       "      <th>50%</th>\n",
       "      <td>39.000000</td>\n",
       "      <td>444.000000</td>\n",
       "      <td>185.000000</td>\n",
       "      <td>2.000000</td>\n",
       "      <td>0.000000</td>\n",
       "      <td>0.000000</td>\n",
       "      <td>1.000000</td>\n",
       "      <td>0.000000</td>\n",
       "      <td>0.000000</td>\n",
       "      <td>0.000100</td>\n",
       "      <td>...</td>\n",
       "      <td>0.000000</td>\n",
       "      <td>1.000000</td>\n",
       "      <td>0.000000</td>\n",
       "      <td>0.000000</td>\n",
       "      <td>1.000000</td>\n",
       "      <td>0.000000</td>\n",
       "      <td>0.000000</td>\n",
       "      <td>0.000000</td>\n",
       "      <td>0.000000</td>\n",
       "      <td>1.000000</td>\n",
       "    </tr>\n",
       "    <tr>\n",
       "      <th>75%</th>\n",
       "      <td>49.000000</td>\n",
       "      <td>1480.000000</td>\n",
       "      <td>329.000000</td>\n",
       "      <td>3.000000</td>\n",
       "      <td>0.000000</td>\n",
       "      <td>0.000000</td>\n",
       "      <td>1.000000</td>\n",
       "      <td>0.000000</td>\n",
       "      <td>0.000000</td>\n",
       "      <td>0.000100</td>\n",
       "      <td>...</td>\n",
       "      <td>0.000000</td>\n",
       "      <td>1.000000</td>\n",
       "      <td>1.000000</td>\n",
       "      <td>0.000000</td>\n",
       "      <td>1.000000</td>\n",
       "      <td>1.000000</td>\n",
       "      <td>0.000000</td>\n",
       "      <td>0.000000</td>\n",
       "      <td>0.000000</td>\n",
       "      <td>1.000000</td>\n",
       "    </tr>\n",
       "    <tr>\n",
       "      <th>max</th>\n",
       "      <td>87.000000</td>\n",
       "      <td>71188.000000</td>\n",
       "      <td>3025.000000</td>\n",
       "      <td>50.000000</td>\n",
       "      <td>25.000000</td>\n",
       "      <td>1.000000</td>\n",
       "      <td>1.000000</td>\n",
       "      <td>1.000000</td>\n",
       "      <td>1.000000</td>\n",
       "      <td>1.000000</td>\n",
       "      <td>...</td>\n",
       "      <td>1.000000</td>\n",
       "      <td>1.000000</td>\n",
       "      <td>1.000000</td>\n",
       "      <td>1.000000</td>\n",
       "      <td>1.000000</td>\n",
       "      <td>1.000000</td>\n",
       "      <td>1.000000</td>\n",
       "      <td>1.000000</td>\n",
       "      <td>1.000000</td>\n",
       "      <td>1.000000</td>\n",
       "    </tr>\n",
       "  </tbody>\n",
       "</table>\n",
       "<p>8 rows × 27 columns</p>\n",
       "</div>"
      ],
      "text/plain": [
       "               age       balance     duration     campaign     previous  \\\n",
       "count  4521.000000   4521.000000  4521.000000  4521.000000  4521.000000   \n",
       "mean     41.170095   1422.657819   263.961292     2.793630     0.542579   \n",
       "std      10.576211   3009.638142   259.856633     3.109807     1.693562   \n",
       "min      19.000000  -3313.000000     4.000000     1.000000     0.000000   \n",
       "25%      33.000000     69.000000   104.000000     1.000000     0.000000   \n",
       "50%      39.000000    444.000000   185.000000     2.000000     0.000000   \n",
       "75%      49.000000   1480.000000   329.000000     3.000000     0.000000   \n",
       "max      87.000000  71188.000000  3025.000000    50.000000    25.000000   \n",
       "\n",
       "       default_cat  housing_cat     loan_cat  deposit_cat  recent_pdays  ...  \\\n",
       "count  4521.000000  4521.000000  4521.000000  4521.000000   4521.000000  ...   \n",
       "mean      0.016810     0.566025     0.152842     0.115240      0.002533  ...   \n",
       "std       0.128575     0.495676     0.359875     0.319347      0.029633  ...   \n",
       "min       0.000000     0.000000     0.000000     0.000000      0.000100  ...   \n",
       "25%       0.000000     0.000000     0.000000     0.000000      0.000100  ...   \n",
       "50%       0.000000     1.000000     0.000000     0.000000      0.000100  ...   \n",
       "75%       0.000000     1.000000     0.000000     0.000000      0.000100  ...   \n",
       "max       1.000000     1.000000     1.000000     1.000000      1.000000  ...   \n",
       "\n",
       "       marital_divorced  marital_married  marital_single  education_primary  \\\n",
       "count       4521.000000      4521.000000     4521.000000        4521.000000   \n",
       "mean           0.116788         0.618668        0.264543           0.149967   \n",
       "std            0.321203         0.485767        0.441138           0.357078   \n",
       "min            0.000000         0.000000        0.000000           0.000000   \n",
       "25%            0.000000         0.000000        0.000000           0.000000   \n",
       "50%            0.000000         1.000000        0.000000           0.000000   \n",
       "75%            0.000000         1.000000        1.000000           0.000000   \n",
       "max            1.000000         1.000000        1.000000           1.000000   \n",
       "\n",
       "       education_secondary  education_tertiary  education_unknown  \\\n",
       "count          4521.000000         4521.000000        4521.000000   \n",
       "mean              0.510064            0.298607           0.041363   \n",
       "std               0.499954            0.457697           0.199149   \n",
       "min               0.000000            0.000000           0.000000   \n",
       "25%               0.000000            0.000000           0.000000   \n",
       "50%               1.000000            0.000000           0.000000   \n",
       "75%               1.000000            1.000000           0.000000   \n",
       "max               1.000000            1.000000           1.000000   \n",
       "\n",
       "       poutcome_failure  poutcome_success  poutcome_unknown  \n",
       "count       4521.000000       4521.000000       4521.000000  \n",
       "mean           0.108383          0.028534          0.863083  \n",
       "std            0.310898          0.166510          0.343797  \n",
       "min            0.000000          0.000000          0.000000  \n",
       "25%            0.000000          0.000000          1.000000  \n",
       "50%            0.000000          0.000000          1.000000  \n",
       "75%            0.000000          0.000000          1.000000  \n",
       "max            1.000000          1.000000          1.000000  \n",
       "\n",
       "[8 rows x 27 columns]"
      ]
     },
     "execution_count": 31,
     "metadata": {},
     "output_type": "execute_result"
    }
   ],
   "source": [
    "bank_with_dummies.describe()"
   ]
  },
  {
   "cell_type": "markdown",
   "metadata": {
    "_cell_guid": "e1cc517d-cc97-4eee-a258-8c554ed95332",
    "_uuid": "beef0817aff3dbd8c920a4cd91bc6e56f00ecd5a"
   },
   "source": [
    "### Observations on whole population"
   ]
  },
  {
   "cell_type": "code",
   "execution_count": 32,
   "metadata": {
    "_cell_guid": "e49e7895-a6ac-4b92-9536-f341621d4604",
    "_uuid": "3ace943aed1952f64db8239a3e3a5ebdb39dfdc3"
   },
   "outputs": [
    {
     "data": {
      "image/png": "[encoded data removed]",
      "text/plain": [
       "<Figure size 432x288 with 1 Axes>"
      ]
     },
     "metadata": {
      "needs_background": "light"
     },
     "output_type": "display_data"
    }
   ],
   "source": [
    "# Scatterplot showing age and balance\n",
    "bank_with_dummies.plot(kind='scatter', x='age', y='balance');\n",
    "\n",
    "# Across all ages, majority of people have savings of less than 20000."
   ]
  },
  {
   "cell_type": "code",
   "execution_count": 33,
   "metadata": {
    "_cell_guid": "4aec6766-7948-4e5d-ad01-3d09cef30708",
    "_uuid": "58071dc03f232e6fd860638e434390b1002e2299"
   },
   "outputs": [
    {
     "data": {
      "image/png": "[encoded data removed]",
      "text/plain": [
       "<Figure size 432x288 with 1 Axes>"
      ]
     },
     "metadata": {
      "needs_background": "light"
     },
     "output_type": "display_data"
    }
   ],
   "source": [
    "bank_with_dummies.plot(kind='hist', x='poutcome_success', y='duration');"
   ]
  },
  {
   "cell_type": "markdown",
   "metadata": {
    "_cell_guid": "46f48fc7-340c-48bb-8f52-7f9a43d03430",
    "_uuid": "f5bccfdf19b6efdaccf2663c114f85ab910fa4a4"
   },
   "source": [
    "#### Analysis on people who sign up for a term deposite"
   ]
  },
  {
   "cell_type": "code",
   "execution_count": 34,
   "metadata": {
    "_cell_guid": "52d4b887-1b35-434d-adf2-243edd1b3347",
    "_uuid": "0be3fa7ed1542d993bb5c8bc36b36d6ed7ca8092"
   },
   "outputs": [
    {
     "data": {
      "text/html": [
       "<div>\n",
       "<style scoped>\n",
       "    .dataframe tbody tr th:only-of-type {\n",
       "        vertical-align: middle;\n",
       "    }\n",
       "\n",
       "    .dataframe tbody tr th {\n",
       "        vertical-align: top;\n",
       "    }\n",
       "\n",
       "    .dataframe thead th {\n",
       "        text-align: right;\n",
       "    }\n",
       "</style>\n",
       "<table border=\"1\" class=\"dataframe\">\n",
       "  <thead>\n",
       "    <tr style=\"text-align: right;\">\n",
       "      <th></th>\n",
       "      <th>age</th>\n",
       "      <th>balance</th>\n",
       "      <th>duration</th>\n",
       "      <th>campaign</th>\n",
       "      <th>previous</th>\n",
       "      <th>default_cat</th>\n",
       "      <th>housing_cat</th>\n",
       "      <th>loan_cat</th>\n",
       "      <th>deposit_cat</th>\n",
       "      <th>recent_pdays</th>\n",
       "      <th>...</th>\n",
       "      <th>marital_divorced</th>\n",
       "      <th>marital_married</th>\n",
       "      <th>marital_single</th>\n",
       "      <th>education_primary</th>\n",
       "      <th>education_secondary</th>\n",
       "      <th>education_tertiary</th>\n",
       "      <th>education_unknown</th>\n",
       "      <th>poutcome_failure</th>\n",
       "      <th>poutcome_success</th>\n",
       "      <th>poutcome_unknown</th>\n",
       "    </tr>\n",
       "  </thead>\n",
       "  <tbody>\n",
       "    <tr>\n",
       "      <th>count</th>\n",
       "      <td>521.000000</td>\n",
       "      <td>521.000000</td>\n",
       "      <td>521.000000</td>\n",
       "      <td>521.000000</td>\n",
       "      <td>521.000000</td>\n",
       "      <td>521.000000</td>\n",
       "      <td>521.000000</td>\n",
       "      <td>521.000000</td>\n",
       "      <td>521.0</td>\n",
       "      <td>521.000000</td>\n",
       "      <td>...</td>\n",
       "      <td>521.000000</td>\n",
       "      <td>521.000000</td>\n",
       "      <td>521.000000</td>\n",
       "      <td>521.000000</td>\n",
       "      <td>521.000000</td>\n",
       "      <td>521.000000</td>\n",
       "      <td>521.000000</td>\n",
       "      <td>521.000000</td>\n",
       "      <td>521.000000</td>\n",
       "      <td>521.000000</td>\n",
       "    </tr>\n",
       "    <tr>\n",
       "      <th>mean</th>\n",
       "      <td>42.491363</td>\n",
       "      <td>1571.955854</td>\n",
       "      <td>552.742802</td>\n",
       "      <td>2.266795</td>\n",
       "      <td>1.090211</td>\n",
       "      <td>0.017274</td>\n",
       "      <td>0.422265</td>\n",
       "      <td>0.082534</td>\n",
       "      <td>1.0</td>\n",
       "      <td>0.006372</td>\n",
       "      <td>...</td>\n",
       "      <td>0.147793</td>\n",
       "      <td>0.531670</td>\n",
       "      <td>0.320537</td>\n",
       "      <td>0.122841</td>\n",
       "      <td>0.470250</td>\n",
       "      <td>0.370441</td>\n",
       "      <td>0.036468</td>\n",
       "      <td>0.120921</td>\n",
       "      <td>0.159309</td>\n",
       "      <td>0.719770</td>\n",
       "    </tr>\n",
       "    <tr>\n",
       "      <th>std</th>\n",
       "      <td>13.115772</td>\n",
       "      <td>2444.398956</td>\n",
       "      <td>390.325805</td>\n",
       "      <td>2.092071</td>\n",
       "      <td>2.055368</td>\n",
       "      <td>0.130417</td>\n",
       "      <td>0.494395</td>\n",
       "      <td>0.275440</td>\n",
       "      <td>0.0</td>\n",
       "      <td>0.061874</td>\n",
       "      <td>...</td>\n",
       "      <td>0.355235</td>\n",
       "      <td>0.499476</td>\n",
       "      <td>0.467132</td>\n",
       "      <td>0.328570</td>\n",
       "      <td>0.499594</td>\n",
       "      <td>0.483387</td>\n",
       "      <td>0.187633</td>\n",
       "      <td>0.326349</td>\n",
       "      <td>0.366316</td>\n",
       "      <td>0.449543</td>\n",
       "    </tr>\n",
       "    <tr>\n",
       "      <th>min</th>\n",
       "      <td>19.000000</td>\n",
       "      <td>-1206.000000</td>\n",
       "      <td>30.000000</td>\n",
       "      <td>1.000000</td>\n",
       "      <td>0.000000</td>\n",
       "      <td>0.000000</td>\n",
       "      <td>0.000000</td>\n",
       "      <td>0.000000</td>\n",
       "      <td>1.0</td>\n",
       "      <td>0.000100</td>\n",
       "      <td>...</td>\n",
       "      <td>0.000000</td>\n",
       "      <td>0.000000</td>\n",
       "      <td>0.000000</td>\n",
       "      <td>0.000000</td>\n",
       "      <td>0.000000</td>\n",
       "      <td>0.000000</td>\n",
       "      <td>0.000000</td>\n",
       "      <td>0.000000</td>\n",
       "      <td>0.000000</td>\n",
       "      <td>0.000000</td>\n",
       "    </tr>\n",
       "    <tr>\n",
       "      <th>25%</th>\n",
       "      <td>32.000000</td>\n",
       "      <td>171.000000</td>\n",
       "      <td>260.000000</td>\n",
       "      <td>1.000000</td>\n",
       "      <td>0.000000</td>\n",
       "      <td>0.000000</td>\n",
       "      <td>0.000000</td>\n",
       "      <td>0.000000</td>\n",
       "      <td>1.0</td>\n",
       "      <td>0.000100</td>\n",
       "      <td>...</td>\n",
       "      <td>0.000000</td>\n",
       "      <td>0.000000</td>\n",
       "      <td>0.000000</td>\n",
       "      <td>0.000000</td>\n",
       "      <td>0.000000</td>\n",
       "      <td>0.000000</td>\n",
       "      <td>0.000000</td>\n",
       "      <td>0.000000</td>\n",
       "      <td>0.000000</td>\n",
       "      <td>0.000000</td>\n",
       "    </tr>\n",
       "    <tr>\n",
       "      <th>50%</th>\n",
       "      <td>40.000000</td>\n",
       "      <td>710.000000</td>\n",
       "      <td>442.000000</td>\n",
       "      <td>2.000000</td>\n",
       "      <td>0.000000</td>\n",
       "      <td>0.000000</td>\n",
       "      <td>0.000000</td>\n",
       "      <td>0.000000</td>\n",
       "      <td>1.0</td>\n",
       "      <td>0.000100</td>\n",
       "      <td>...</td>\n",
       "      <td>0.000000</td>\n",
       "      <td>1.000000</td>\n",
       "      <td>0.000000</td>\n",
       "      <td>0.000000</td>\n",
       "      <td>0.000000</td>\n",
       "      <td>0.000000</td>\n",
       "      <td>0.000000</td>\n",
       "      <td>0.000000</td>\n",
       "      <td>0.000000</td>\n",
       "      <td>1.000000</td>\n",
       "    </tr>\n",
       "    <tr>\n",
       "      <th>75%</th>\n",
       "      <td>50.000000</td>\n",
       "      <td>2160.000000</td>\n",
       "      <td>755.000000</td>\n",
       "      <td>3.000000</td>\n",
       "      <td>2.000000</td>\n",
       "      <td>0.000000</td>\n",
       "      <td>1.000000</td>\n",
       "      <td>0.000000</td>\n",
       "      <td>1.0</td>\n",
       "      <td>0.005051</td>\n",
       "      <td>...</td>\n",
       "      <td>0.000000</td>\n",
       "      <td>1.000000</td>\n",
       "      <td>1.000000</td>\n",
       "      <td>0.000000</td>\n",
       "      <td>1.000000</td>\n",
       "      <td>1.000000</td>\n",
       "      <td>0.000000</td>\n",
       "      <td>0.000000</td>\n",
       "      <td>0.000000</td>\n",
       "      <td>1.000000</td>\n",
       "    </tr>\n",
       "    <tr>\n",
       "      <th>max</th>\n",
       "      <td>87.000000</td>\n",
       "      <td>26965.000000</td>\n",
       "      <td>2769.000000</td>\n",
       "      <td>24.000000</td>\n",
       "      <td>14.000000</td>\n",
       "      <td>1.000000</td>\n",
       "      <td>1.000000</td>\n",
       "      <td>1.000000</td>\n",
       "      <td>1.0</td>\n",
       "      <td>1.000000</td>\n",
       "      <td>...</td>\n",
       "      <td>1.000000</td>\n",
       "      <td>1.000000</td>\n",
       "      <td>1.000000</td>\n",
       "      <td>1.000000</td>\n",
       "      <td>1.000000</td>\n",
       "      <td>1.000000</td>\n",
       "      <td>1.000000</td>\n",
       "      <td>1.000000</td>\n",
       "      <td>1.000000</td>\n",
       "      <td>1.000000</td>\n",
       "    </tr>\n",
       "  </tbody>\n",
       "</table>\n",
       "<p>8 rows × 27 columns</p>\n",
       "</div>"
      ],
      "text/plain": [
       "              age       balance     duration    campaign    previous  \\\n",
       "count  521.000000    521.000000   521.000000  521.000000  521.000000   \n",
       "mean    42.491363   1571.955854   552.742802    2.266795    1.090211   \n",
       "std     13.115772   2444.398956   390.325805    2.092071    2.055368   \n",
       "min     19.000000  -1206.000000    30.000000    1.000000    0.000000   \n",
       "25%     32.000000    171.000000   260.000000    1.000000    0.000000   \n",
       "50%     40.000000    710.000000   442.000000    2.000000    0.000000   \n",
       "75%     50.000000   2160.000000   755.000000    3.000000    2.000000   \n",
       "max     87.000000  26965.000000  2769.000000   24.000000   14.000000   \n",
       "\n",
       "       default_cat  housing_cat    loan_cat  deposit_cat  recent_pdays  ...  \\\n",
       "count   521.000000   521.000000  521.000000        521.0    521.000000  ...   \n",
       "mean      0.017274     0.422265    0.082534          1.0      0.006372  ...   \n",
       "std       0.130417     0.494395    0.275440          0.0      0.061874  ...   \n",
       "min       0.000000     0.000000    0.000000          1.0      0.000100  ...   \n",
       "25%       0.000000     0.000000    0.000000          1.0      0.000100  ...   \n",
       "50%       0.000000     0.000000    0.000000          1.0      0.000100  ...   \n",
       "75%       0.000000     1.000000    0.000000          1.0      0.005051  ...   \n",
       "max       1.000000     1.000000    1.000000          1.0      1.000000  ...   \n",
       "\n",
       "       marital_divorced  marital_married  marital_single  education_primary  \\\n",
       "count        521.000000       521.000000      521.000000         521.000000   \n",
       "mean           0.147793         0.531670        0.320537           0.122841   \n",
       "std            0.355235         0.499476        0.467132           0.328570   \n",
       "min            0.000000         0.000000        0.000000           0.000000   \n",
       "25%            0.000000         0.000000        0.000000           0.000000   \n",
       "50%            0.000000         1.000000        0.000000           0.000000   \n",
       "75%            0.000000         1.000000        1.000000           0.000000   \n",
       "max            1.000000         1.000000        1.000000           1.000000   \n",
       "\n",
       "       education_secondary  education_tertiary  education_unknown  \\\n",
       "count           521.000000          521.000000         521.000000   \n",
       "mean              0.470250            0.370441           0.036468   \n",
       "std               0.499594            0.483387           0.187633   \n",
       "min               0.000000            0.000000           0.000000   \n",
       "25%               0.000000            0.000000           0.000000   \n",
       "50%               0.000000            0.000000           0.000000   \n",
       "75%               1.000000            1.000000           0.000000   \n",
       "max               1.000000            1.000000           1.000000   \n",
       "\n",
       "       poutcome_failure  poutcome_success  poutcome_unknown  \n",
       "count        521.000000        521.000000        521.000000  \n",
       "mean           0.120921          0.159309          0.719770  \n",
       "std            0.326349          0.366316          0.449543  \n",
       "min            0.000000          0.000000          0.000000  \n",
       "25%            0.000000          0.000000          0.000000  \n",
       "50%            0.000000          0.000000          1.000000  \n",
       "75%            0.000000          0.000000          1.000000  \n",
       "max            1.000000          1.000000          1.000000  \n",
       "\n",
       "[8 rows x 27 columns]"
      ]
     },
     "execution_count": 34,
     "metadata": {},
     "output_type": "execute_result"
    }
   ],
   "source": [
    "# People who sign up to a term deposite\n",
    "bank_with_dummies[bank_data.deposit_cat == 1].describe()"
   ]
  },
  {
   "cell_type": "code",
   "execution_count": 35,
   "metadata": {
    "_cell_guid": "25c8616f-805c-4abf-b792-4b2e8f39cfcf",
    "_uuid": "3d999f6b3775dcc7b25993fcd6ccad1838d8a239"
   },
   "outputs": [
    {
     "data": {
      "text/plain": [
       "25"
      ]
     },
     "execution_count": 35,
     "metadata": {},
     "output_type": "execute_result"
    }
   ],
   "source": [
    "# People signed up to a term deposite having a personal loan (loan_cat) and housing loan (housing_cat)\n",
    "len(bank_with_dummies[(bank_with_dummies.deposit_cat == 1) & (bank_with_dummies.loan_cat) & (bank_with_dummies.housing_cat)])"
   ]
  },
  {
   "cell_type": "code",
   "execution_count": 36,
   "metadata": {
    "_cell_guid": "ecb235b0-9f6b-4a35-9a71-efd7525b4836",
    "_uuid": "33866e95d069281a68c5f0bcfaa272603e665390"
   },
   "outputs": [
    {
     "data": {
      "text/plain": [
       "9"
      ]
     },
     "execution_count": 36,
     "metadata": {},
     "output_type": "execute_result"
    }
   ],
   "source": [
    "# People signed up to a term deposite with a credit default \n",
    "len(bank_with_dummies[(bank_with_dummies.deposit_cat == 1) & (bank_with_dummies.default_cat ==1)])"
   ]
  },
  {
   "cell_type": "code",
   "execution_count": 37,
   "metadata": {
    "_cell_guid": "fae049f5-fa22-4db2-9e65-2b0088ed6c2c",
    "_uuid": "037a420ecb420ad6b97029219d36d4f9147d52a6"
   },
   "outputs": [
    {
     "data": {
      "text/plain": [
       "<matplotlib.axes._subplots.AxesSubplot at 0x7f2777b26fd0>"
      ]
     },
     "execution_count": 37,
     "metadata": {},
     "output_type": "execute_result"
    },
    {
     "data": {
      "image/png": "[encoded data removed]",
      "text/plain": [
       "<Figure size 720x432 with 1 Axes>"
      ]
     },
     "metadata": {
      "needs_background": "light"
     },
     "output_type": "display_data"
    }
   ],
   "source": [
    "# Bar chart of job Vs deposite\n",
    "plt.figure(figsize = (10,6))\n",
    "sns.barplot(x='job', y = 'deposit_cat', data = bank_data)"
   ]
  },
  {
   "cell_type": "code",
   "execution_count": 38,
   "metadata": {
    "_cell_guid": "1a35a8e5-3df3-470c-9bf1-71a476f587e6",
    "_uuid": "7f5cb673253553269fcb783d941d7b37499b9a3e"
   },
   "outputs": [
    {
     "data": {
      "text/plain": [
       "<matplotlib.axes._subplots.AxesSubplot at 0x7f2777bf4c18>"
      ]
     },
     "execution_count": 38,
     "metadata": {},
     "output_type": "execute_result"
    },
    {
     "data": {
      "image/png": "[encoded data removed]",
      "text/plain": [
       "<Figure size 720x432 with 1 Axes>"
      ]
     },
     "metadata": {
      "needs_background": "light"
     },
     "output_type": "display_data"
    }
   ],
   "source": [
    "# Bar chart of \"previous outcome\" Vs \"call duration\"\n",
    "\n",
    "plt.figure(figsize = (10,6))\n",
    "sns.barplot(x='poutcome', y = 'duration', data = bank_data)"
   ]
  },
  {
   "cell_type": "markdown",
   "metadata": {
    "_cell_guid": "24492c44-5b2a-4878-9236-df9297680902",
    "_uuid": "d583dd9fbc7df31d950d78bcb62f2156a6c14ed3"
   },
   "source": [
    "> ## Classification"
   ]
  },
  {
   "cell_type": "code",
   "execution_count": 39,
   "metadata": {
    "_cell_guid": "9365fde6-e602-4996-a79a-2d7e4ec3bee2",
    "_uuid": "4482103b89dd40dbb5ac9bbafee6e85da23c27c3"
   },
   "outputs": [],
   "source": [
    "# make a copy\n",
    "bankcl = bank_with_dummies"
   ]
  },
  {
   "cell_type": "code",
   "execution_count": 40,
   "metadata": {
    "_cell_guid": "edf85d97-fec6-4f90-a3d0-02a1ec094a08",
    "_uuid": "ff08aff610ab1676acc902da63dc35ae1c321673"
   },
   "outputs": [
    {
     "data": {
      "text/html": [
       "<div>\n",
       "<style scoped>\n",
       "    .dataframe tbody tr th:only-of-type {\n",
       "        vertical-align: middle;\n",
       "    }\n",
       "\n",
       "    .dataframe tbody tr th {\n",
       "        vertical-align: top;\n",
       "    }\n",
       "\n",
       "    .dataframe thead th {\n",
       "        text-align: right;\n",
       "    }\n",
       "</style>\n",
       "<table border=\"1\" class=\"dataframe\">\n",
       "  <thead>\n",
       "    <tr style=\"text-align: right;\">\n",
       "      <th></th>\n",
       "      <th>age</th>\n",
       "      <th>balance</th>\n",
       "      <th>duration</th>\n",
       "      <th>campaign</th>\n",
       "      <th>previous</th>\n",
       "      <th>default_cat</th>\n",
       "      <th>housing_cat</th>\n",
       "      <th>loan_cat</th>\n",
       "      <th>deposit_cat</th>\n",
       "      <th>recent_pdays</th>\n",
       "      <th>...</th>\n",
       "      <th>marital_divorced</th>\n",
       "      <th>marital_married</th>\n",
       "      <th>marital_single</th>\n",
       "      <th>education_primary</th>\n",
       "      <th>education_secondary</th>\n",
       "      <th>education_tertiary</th>\n",
       "      <th>education_unknown</th>\n",
       "      <th>poutcome_failure</th>\n",
       "      <th>poutcome_success</th>\n",
       "      <th>poutcome_unknown</th>\n",
       "    </tr>\n",
       "  </thead>\n",
       "  <tbody>\n",
       "    <tr>\n",
       "      <th>age</th>\n",
       "      <td>1.000000</td>\n",
       "      <td>0.083820</td>\n",
       "      <td>-0.002367</td>\n",
       "      <td>-0.005148</td>\n",
       "      <td>-0.003511</td>\n",
       "      <td>-0.017885</td>\n",
       "      <td>-0.193888</td>\n",
       "      <td>-0.011250</td>\n",
       "      <td>0.045092</td>\n",
       "      <td>-0.002103</td>\n",
       "      <td>...</td>\n",
       "      <td>0.148043</td>\n",
       "      <td>0.275139</td>\n",
       "      <td>-0.410768</td>\n",
       "      <td>0.224938</td>\n",
       "      <td>-0.106872</td>\n",
       "      <td>-0.094042</td>\n",
       "      <td>0.081111</td>\n",
       "      <td>0.012693</td>\n",
       "      <td>0.048626</td>\n",
       "      <td>-0.035029</td>\n",
       "    </tr>\n",
       "    <tr>\n",
       "      <th>balance</th>\n",
       "      <td>0.083820</td>\n",
       "      <td>1.000000</td>\n",
       "      <td>-0.015950</td>\n",
       "      <td>-0.009976</td>\n",
       "      <td>0.026196</td>\n",
       "      <td>-0.070886</td>\n",
       "      <td>-0.050227</td>\n",
       "      <td>-0.071349</td>\n",
       "      <td>0.017905</td>\n",
       "      <td>-0.004674</td>\n",
       "      <td>...</td>\n",
       "      <td>-0.036284</td>\n",
       "      <td>0.017158</td>\n",
       "      <td>0.007525</td>\n",
       "      <td>-0.001551</td>\n",
       "      <td>-0.076574</td>\n",
       "      <td>0.076487</td>\n",
       "      <td>0.019230</td>\n",
       "      <td>0.025719</td>\n",
       "      <td>0.029999</td>\n",
       "      <td>-0.037787</td>\n",
       "    </tr>\n",
       "    <tr>\n",
       "      <th>duration</th>\n",
       "      <td>-0.002367</td>\n",
       "      <td>-0.015950</td>\n",
       "      <td>1.000000</td>\n",
       "      <td>-0.068382</td>\n",
       "      <td>0.018080</td>\n",
       "      <td>-0.011615</td>\n",
       "      <td>0.015740</td>\n",
       "      <td>-0.004997</td>\n",
       "      <td>0.401118</td>\n",
       "      <td>-0.012351</td>\n",
       "      <td>...</td>\n",
       "      <td>0.021373</td>\n",
       "      <td>-0.036436</td>\n",
       "      <td>0.024560</td>\n",
       "      <td>-0.003640</td>\n",
       "      <td>0.023179</td>\n",
       "      <td>-0.017779</td>\n",
       "      <td>-0.010802</td>\n",
       "      <td>-0.012852</td>\n",
       "      <td>0.049255</td>\n",
       "      <td>-0.012233</td>\n",
       "    </tr>\n",
       "    <tr>\n",
       "      <th>campaign</th>\n",
       "      <td>-0.005148</td>\n",
       "      <td>-0.009976</td>\n",
       "      <td>-0.068382</td>\n",
       "      <td>1.000000</td>\n",
       "      <td>-0.067833</td>\n",
       "      <td>-0.012348</td>\n",
       "      <td>-0.003574</td>\n",
       "      <td>0.017120</td>\n",
       "      <td>-0.061147</td>\n",
       "      <td>-0.023233</td>\n",
       "      <td>...</td>\n",
       "      <td>-0.022157</td>\n",
       "      <td>0.022000</td>\n",
       "      <td>-0.008093</td>\n",
       "      <td>0.009746</td>\n",
       "      <td>-0.019510</td>\n",
       "      <td>0.022631</td>\n",
       "      <td>-0.020508</td>\n",
       "      <td>-0.094021</td>\n",
       "      <td>-0.058268</td>\n",
       "      <td>0.113244</td>\n",
       "    </tr>\n",
       "    <tr>\n",
       "      <th>previous</th>\n",
       "      <td>-0.003511</td>\n",
       "      <td>0.026196</td>\n",
       "      <td>0.018080</td>\n",
       "      <td>-0.067833</td>\n",
       "      <td>1.000000</td>\n",
       "      <td>-0.026656</td>\n",
       "      <td>0.038621</td>\n",
       "      <td>-0.022115</td>\n",
       "      <td>0.116714</td>\n",
       "      <td>0.131297</td>\n",
       "      <td>...</td>\n",
       "      <td>-0.022158</td>\n",
       "      <td>-0.017640</td>\n",
       "      <td>0.035558</td>\n",
       "      <td>-0.020439</td>\n",
       "      <td>-0.008410</td>\n",
       "      <td>0.026977</td>\n",
       "      <td>-0.004239</td>\n",
       "      <td>0.475289</td>\n",
       "      <td>0.250277</td>\n",
       "      <td>-0.551022</td>\n",
       "    </tr>\n",
       "    <tr>\n",
       "      <th>default_cat</th>\n",
       "      <td>-0.017885</td>\n",
       "      <td>-0.070886</td>\n",
       "      <td>-0.011615</td>\n",
       "      <td>-0.012348</td>\n",
       "      <td>-0.026656</td>\n",
       "      <td>1.000000</td>\n",
       "      <td>0.006881</td>\n",
       "      <td>0.063994</td>\n",
       "      <td>0.001303</td>\n",
       "      <td>-0.009816</td>\n",
       "      <td>...</td>\n",
       "      <td>0.048878</td>\n",
       "      <td>-0.039031</td>\n",
       "      <td>0.007391</td>\n",
       "      <td>-0.006734</td>\n",
       "      <td>0.024901</td>\n",
       "      <td>-0.021407</td>\n",
       "      <td>-0.001240</td>\n",
       "      <td>-0.040055</td>\n",
       "      <td>-0.022410</td>\n",
       "      <td>0.047075</td>\n",
       "    </tr>\n",
       "    <tr>\n",
       "      <th>housing_cat</th>\n",
       "      <td>-0.193888</td>\n",
       "      <td>-0.050227</td>\n",
       "      <td>0.015740</td>\n",
       "      <td>-0.003574</td>\n",
       "      <td>0.038621</td>\n",
       "      <td>0.006881</td>\n",
       "      <td>1.000000</td>\n",
       "      <td>0.018451</td>\n",
       "      <td>-0.104683</td>\n",
       "      <td>-0.035316</td>\n",
       "      <td>...</td>\n",
       "      <td>-0.001197</td>\n",
       "      <td>0.038432</td>\n",
       "      <td>-0.041449</td>\n",
       "      <td>-0.000956</td>\n",
       "      <td>0.111368</td>\n",
       "      <td>-0.098624</td>\n",
       "      <td>-0.051205</td>\n",
       "      <td>0.094246</td>\n",
       "      <td>-0.088504</td>\n",
       "      <td>-0.042363</td>\n",
       "    </tr>\n",
       "    <tr>\n",
       "      <th>loan_cat</th>\n",
       "      <td>-0.011250</td>\n",
       "      <td>-0.071349</td>\n",
       "      <td>-0.004997</td>\n",
       "      <td>0.017120</td>\n",
       "      <td>-0.022115</td>\n",
       "      <td>0.063994</td>\n",
       "      <td>0.018451</td>\n",
       "      <td>1.000000</td>\n",
       "      <td>-0.070517</td>\n",
       "      <td>0.008965</td>\n",
       "      <td>...</td>\n",
       "      <td>0.017798</td>\n",
       "      <td>0.032272</td>\n",
       "      <td>-0.048496</td>\n",
       "      <td>-0.016574</td>\n",
       "      <td>0.078139</td>\n",
       "      <td>-0.043434</td>\n",
       "      <td>-0.066621</td>\n",
       "      <td>-0.011652</td>\n",
       "      <td>-0.050643</td>\n",
       "      <td>0.035065</td>\n",
       "    </tr>\n",
       "    <tr>\n",
       "      <th>deposit_cat</th>\n",
       "      <td>0.045092</td>\n",
       "      <td>0.017905</td>\n",
       "      <td>0.401118</td>\n",
       "      <td>-0.061147</td>\n",
       "      <td>0.116714</td>\n",
       "      <td>0.001303</td>\n",
       "      <td>-0.104683</td>\n",
       "      <td>-0.070517</td>\n",
       "      <td>1.000000</td>\n",
       "      <td>0.046769</td>\n",
       "      <td>...</td>\n",
       "      <td>0.034840</td>\n",
       "      <td>-0.064643</td>\n",
       "      <td>0.045815</td>\n",
       "      <td>-0.027420</td>\n",
       "      <td>-0.028744</td>\n",
       "      <td>0.056649</td>\n",
       "      <td>-0.008870</td>\n",
       "      <td>0.014556</td>\n",
       "      <td>0.283481</td>\n",
       "      <td>-0.150460</td>\n",
       "    </tr>\n",
       "    <tr>\n",
       "      <th>recent_pdays</th>\n",
       "      <td>-0.002103</td>\n",
       "      <td>-0.004674</td>\n",
       "      <td>-0.012351</td>\n",
       "      <td>-0.023233</td>\n",
       "      <td>0.131297</td>\n",
       "      <td>-0.009816</td>\n",
       "      <td>-0.035316</td>\n",
       "      <td>0.008965</td>\n",
       "      <td>0.046769</td>\n",
       "      <td>1.000000</td>\n",
       "      <td>...</td>\n",
       "      <td>-0.019769</td>\n",
       "      <td>0.016323</td>\n",
       "      <td>-0.003581</td>\n",
       "      <td>-0.020722</td>\n",
       "      <td>-0.026180</td>\n",
       "      <td>0.040516</td>\n",
       "      <td>0.009764</td>\n",
       "      <td>0.036209</td>\n",
       "      <td>0.124052</td>\n",
       "      <td>-0.092825</td>\n",
       "    </tr>\n",
       "    <tr>\n",
       "      <th>job_blue-collar</th>\n",
       "      <td>-0.049307</td>\n",
       "      <td>-0.057691</td>\n",
       "      <td>0.028114</td>\n",
       "      <td>0.008783</td>\n",
       "      <td>-0.014861</td>\n",
       "      <td>-0.008048</td>\n",
       "      <td>0.175040</td>\n",
       "      <td>0.017244</td>\n",
       "      <td>-0.068147</td>\n",
       "      <td>-0.015150</td>\n",
       "      <td>...</td>\n",
       "      <td>-0.053302</td>\n",
       "      <td>0.120618</td>\n",
       "      <td>-0.094010</td>\n",
       "      <td>0.345922</td>\n",
       "      <td>0.045120</td>\n",
       "      <td>-0.321384</td>\n",
       "      <td>0.005109</td>\n",
       "      <td>-0.002677</td>\n",
       "      <td>-0.042435</td>\n",
       "      <td>0.022973</td>\n",
       "    </tr>\n",
       "    <tr>\n",
       "      <th>job_entrepreneur</th>\n",
       "      <td>0.015638</td>\n",
       "      <td>0.014523</td>\n",
       "      <td>0.016267</td>\n",
       "      <td>-0.012910</td>\n",
       "      <td>-0.013226</td>\n",
       "      <td>0.037983</td>\n",
       "      <td>-0.002577</td>\n",
       "      <td>0.049794</td>\n",
       "      <td>-0.015968</td>\n",
       "      <td>-0.011934</td>\n",
       "      <td>...</td>\n",
       "      <td>-0.013182</td>\n",
       "      <td>0.067564</td>\n",
       "      <td>-0.064801</td>\n",
       "      <td>0.002638</td>\n",
       "      <td>-0.064775</td>\n",
       "      <td>0.058345</td>\n",
       "      <td>0.023790</td>\n",
       "      <td>-0.012069</td>\n",
       "      <td>-0.026645</td>\n",
       "      <td>0.023819</td>\n",
       "    </tr>\n",
       "    <tr>\n",
       "      <th>job_other</th>\n",
       "      <td>0.257016</td>\n",
       "      <td>0.042168</td>\n",
       "      <td>0.018500</td>\n",
       "      <td>-0.030698</td>\n",
       "      <td>0.015927</td>\n",
       "      <td>-0.005970</td>\n",
       "      <td>-0.206721</td>\n",
       "      <td>-0.052607</td>\n",
       "      <td>0.084740</td>\n",
       "      <td>0.008617</td>\n",
       "      <td>...</td>\n",
       "      <td>0.022226</td>\n",
       "      <td>-0.008812</td>\n",
       "      <td>-0.006480</td>\n",
       "      <td>0.086506</td>\n",
       "      <td>-0.024174</td>\n",
       "      <td>-0.083673</td>\n",
       "      <td>0.097884</td>\n",
       "      <td>0.006874</td>\n",
       "      <td>0.044437</td>\n",
       "      <td>-0.027738</td>\n",
       "    </tr>\n",
       "    <tr>\n",
       "      <th>job_pink-collar</th>\n",
       "      <td>-0.025572</td>\n",
       "      <td>-0.013457</td>\n",
       "      <td>0.006877</td>\n",
       "      <td>-0.004610</td>\n",
       "      <td>-0.025205</td>\n",
       "      <td>0.000574</td>\n",
       "      <td>0.034118</td>\n",
       "      <td>0.011754</td>\n",
       "      <td>-0.019314</td>\n",
       "      <td>-0.019114</td>\n",
       "      <td>...</td>\n",
       "      <td>0.028323</td>\n",
       "      <td>-0.010308</td>\n",
       "      <td>-0.009272</td>\n",
       "      <td>0.005141</td>\n",
       "      <td>0.166806</td>\n",
       "      <td>-0.180382</td>\n",
       "      <td>-0.013411</td>\n",
       "      <td>-0.022877</td>\n",
       "      <td>-0.008656</td>\n",
       "      <td>0.024880</td>\n",
       "    </tr>\n",
       "    <tr>\n",
       "      <th>job_self-employed</th>\n",
       "      <td>0.005505</td>\n",
       "      <td>-0.002064</td>\n",
       "      <td>0.000130</td>\n",
       "      <td>0.032040</td>\n",
       "      <td>0.005772</td>\n",
       "      <td>0.008064</td>\n",
       "      <td>-0.035287</td>\n",
       "      <td>0.006331</td>\n",
       "      <td>-0.003827</td>\n",
       "      <td>-0.010002</td>\n",
       "      <td>...</td>\n",
       "      <td>-0.022269</td>\n",
       "      <td>0.031850</td>\n",
       "      <td>-0.018858</td>\n",
       "      <td>-0.039118</td>\n",
       "      <td>-0.038935</td>\n",
       "      <td>0.081801</td>\n",
       "      <td>-0.020118</td>\n",
       "      <td>-0.013843</td>\n",
       "      <td>-0.014977</td>\n",
       "      <td>0.019772</td>\n",
       "    </tr>\n",
       "    <tr>\n",
       "      <th>job_technician</th>\n",
       "      <td>-0.072723</td>\n",
       "      <td>-0.013779</td>\n",
       "      <td>-0.020514</td>\n",
       "      <td>-0.008999</td>\n",
       "      <td>0.009148</td>\n",
       "      <td>0.009574</td>\n",
       "      <td>-0.012725</td>\n",
       "      <td>0.002647</td>\n",
       "      <td>-0.010154</td>\n",
       "      <td>-0.020586</td>\n",
       "      <td>...</td>\n",
       "      <td>-0.001272</td>\n",
       "      <td>-0.077779</td>\n",
       "      <td>0.086573</td>\n",
       "      <td>-0.165262</td>\n",
       "      <td>0.151139</td>\n",
       "      <td>-0.023592</td>\n",
       "      <td>-0.028889</td>\n",
       "      <td>-0.000451</td>\n",
       "      <td>0.021532</td>\n",
       "      <td>-0.010020</td>\n",
       "    </tr>\n",
       "    <tr>\n",
       "      <th>job_white-collar</th>\n",
       "      <td>-0.059235</td>\n",
       "      <td>0.037806</td>\n",
       "      <td>-0.031606</td>\n",
       "      <td>0.014733</td>\n",
       "      <td>0.015369</td>\n",
       "      <td>-0.015950</td>\n",
       "      <td>-0.013430</td>\n",
       "      <td>-0.013391</td>\n",
       "      <td>0.033036</td>\n",
       "      <td>0.046325</td>\n",
       "      <td>...</td>\n",
       "      <td>0.028061</td>\n",
       "      <td>-0.070494</td>\n",
       "      <td>0.057194</td>\n",
       "      <td>-0.213811</td>\n",
       "      <td>-0.217263</td>\n",
       "      <td>0.420552</td>\n",
       "      <td>-0.037745</td>\n",
       "      <td>0.024663</td>\n",
       "      <td>0.013419</td>\n",
       "      <td>-0.028802</td>\n",
       "    </tr>\n",
       "    <tr>\n",
       "      <th>marital_divorced</th>\n",
       "      <td>0.148043</td>\n",
       "      <td>-0.036284</td>\n",
       "      <td>0.021373</td>\n",
       "      <td>-0.022157</td>\n",
       "      <td>-0.022158</td>\n",
       "      <td>0.048878</td>\n",
       "      <td>-0.001197</td>\n",
       "      <td>0.017798</td>\n",
       "      <td>0.034840</td>\n",
       "      <td>-0.019769</td>\n",
       "      <td>...</td>\n",
       "      <td>1.000000</td>\n",
       "      <td>-0.463175</td>\n",
       "      <td>-0.218091</td>\n",
       "      <td>-0.000352</td>\n",
       "      <td>0.000945</td>\n",
       "      <td>-0.004009</td>\n",
       "      <td>0.007473</td>\n",
       "      <td>-0.011579</td>\n",
       "      <td>-0.020955</td>\n",
       "      <td>0.020619</td>\n",
       "    </tr>\n",
       "    <tr>\n",
       "      <th>marital_married</th>\n",
       "      <td>0.275139</td>\n",
       "      <td>0.017158</td>\n",
       "      <td>-0.036436</td>\n",
       "      <td>0.022000</td>\n",
       "      <td>-0.017640</td>\n",
       "      <td>-0.039031</td>\n",
       "      <td>0.038432</td>\n",
       "      <td>0.032272</td>\n",
       "      <td>-0.064643</td>\n",
       "      <td>0.016323</td>\n",
       "      <td>...</td>\n",
       "      <td>-0.463175</td>\n",
       "      <td>1.000000</td>\n",
       "      <td>-0.763919</td>\n",
       "      <td>0.135892</td>\n",
       "      <td>0.000319</td>\n",
       "      <td>-0.107669</td>\n",
       "      <td>0.002994</td>\n",
       "      <td>-0.007541</td>\n",
       "      <td>0.005995</td>\n",
       "      <td>0.003916</td>\n",
       "    </tr>\n",
       "    <tr>\n",
       "      <th>marital_single</th>\n",
       "      <td>-0.410768</td>\n",
       "      <td>0.007525</td>\n",
       "      <td>0.024560</td>\n",
       "      <td>-0.008093</td>\n",
       "      <td>0.035558</td>\n",
       "      <td>0.007391</td>\n",
       "      <td>-0.041449</td>\n",
       "      <td>-0.048496</td>\n",
       "      <td>0.045815</td>\n",
       "      <td>-0.003581</td>\n",
       "      <td>...</td>\n",
       "      <td>-0.218091</td>\n",
       "      <td>-0.763919</td>\n",
       "      <td>1.000000</td>\n",
       "      <td>-0.149384</td>\n",
       "      <td>-0.001040</td>\n",
       "      <td>0.121481</td>\n",
       "      <td>-0.008737</td>\n",
       "      <td>0.016734</td>\n",
       "      <td>0.008656</td>\n",
       "      <td>-0.019325</td>\n",
       "    </tr>\n",
       "    <tr>\n",
       "      <th>education_primary</th>\n",
       "      <td>0.224938</td>\n",
       "      <td>-0.001551</td>\n",
       "      <td>-0.003640</td>\n",
       "      <td>0.009746</td>\n",
       "      <td>-0.020439</td>\n",
       "      <td>-0.006734</td>\n",
       "      <td>-0.000956</td>\n",
       "      <td>-0.016574</td>\n",
       "      <td>-0.027420</td>\n",
       "      <td>-0.020722</td>\n",
       "      <td>...</td>\n",
       "      <td>-0.000352</td>\n",
       "      <td>0.135892</td>\n",
       "      <td>-0.149384</td>\n",
       "      <td>1.000000</td>\n",
       "      <td>-0.428571</td>\n",
       "      <td>-0.274062</td>\n",
       "      <td>-0.087248</td>\n",
       "      <td>-0.024879</td>\n",
       "      <td>-0.016170</td>\n",
       "      <td>0.030330</td>\n",
       "    </tr>\n",
       "    <tr>\n",
       "      <th>education_secondary</th>\n",
       "      <td>-0.106872</td>\n",
       "      <td>-0.076574</td>\n",
       "      <td>0.023179</td>\n",
       "      <td>-0.019510</td>\n",
       "      <td>-0.008410</td>\n",
       "      <td>0.024901</td>\n",
       "      <td>0.111368</td>\n",
       "      <td>0.078139</td>\n",
       "      <td>-0.028744</td>\n",
       "      <td>-0.026180</td>\n",
       "      <td>...</td>\n",
       "      <td>0.000945</td>\n",
       "      <td>0.000319</td>\n",
       "      <td>-0.001040</td>\n",
       "      <td>-0.428571</td>\n",
       "      <td>1.000000</td>\n",
       "      <td>-0.665751</td>\n",
       "      <td>-0.211943</td>\n",
       "      <td>0.004368</td>\n",
       "      <td>-0.015410</td>\n",
       "      <td>0.003514</td>\n",
       "    </tr>\n",
       "    <tr>\n",
       "      <th>education_tertiary</th>\n",
       "      <td>-0.094042</td>\n",
       "      <td>0.076487</td>\n",
       "      <td>-0.017779</td>\n",
       "      <td>0.022631</td>\n",
       "      <td>0.026977</td>\n",
       "      <td>-0.021407</td>\n",
       "      <td>-0.098624</td>\n",
       "      <td>-0.043434</td>\n",
       "      <td>0.056649</td>\n",
       "      <td>0.040516</td>\n",
       "      <td>...</td>\n",
       "      <td>-0.004009</td>\n",
       "      <td>-0.107669</td>\n",
       "      <td>0.121481</td>\n",
       "      <td>-0.274062</td>\n",
       "      <td>-0.665751</td>\n",
       "      <td>1.000000</td>\n",
       "      <td>-0.135533</td>\n",
       "      <td>0.016609</td>\n",
       "      <td>0.015908</td>\n",
       "      <td>-0.022724</td>\n",
       "    </tr>\n",
       "    <tr>\n",
       "      <th>education_unknown</th>\n",
       "      <td>0.081111</td>\n",
       "      <td>0.019230</td>\n",
       "      <td>-0.010802</td>\n",
       "      <td>-0.020508</td>\n",
       "      <td>-0.004239</td>\n",
       "      <td>-0.001240</td>\n",
       "      <td>-0.051205</td>\n",
       "      <td>-0.066621</td>\n",
       "      <td>-0.008870</td>\n",
       "      <td>0.009764</td>\n",
       "      <td>...</td>\n",
       "      <td>0.007473</td>\n",
       "      <td>0.002994</td>\n",
       "      <td>-0.008737</td>\n",
       "      <td>-0.087248</td>\n",
       "      <td>-0.211943</td>\n",
       "      <td>-0.135533</td>\n",
       "      <td>1.000000</td>\n",
       "      <td>-0.004530</td>\n",
       "      <td>0.031119</td>\n",
       "      <td>-0.010975</td>\n",
       "    </tr>\n",
       "    <tr>\n",
       "      <th>poutcome_failure</th>\n",
       "      <td>0.012693</td>\n",
       "      <td>0.025719</td>\n",
       "      <td>-0.012852</td>\n",
       "      <td>-0.094021</td>\n",
       "      <td>0.475289</td>\n",
       "      <td>-0.040055</td>\n",
       "      <td>0.094246</td>\n",
       "      <td>-0.011652</td>\n",
       "      <td>0.014556</td>\n",
       "      <td>0.036209</td>\n",
       "      <td>...</td>\n",
       "      <td>-0.011579</td>\n",
       "      <td>-0.007541</td>\n",
       "      <td>0.016734</td>\n",
       "      <td>-0.024879</td>\n",
       "      <td>0.004368</td>\n",
       "      <td>0.016609</td>\n",
       "      <td>-0.004530</td>\n",
       "      <td>1.000000</td>\n",
       "      <td>-0.059752</td>\n",
       "      <td>-0.875367</td>\n",
       "    </tr>\n",
       "    <tr>\n",
       "      <th>poutcome_success</th>\n",
       "      <td>0.048626</td>\n",
       "      <td>0.029999</td>\n",
       "      <td>0.049255</td>\n",
       "      <td>-0.058268</td>\n",
       "      <td>0.250277</td>\n",
       "      <td>-0.022410</td>\n",
       "      <td>-0.088504</td>\n",
       "      <td>-0.050643</td>\n",
       "      <td>0.283481</td>\n",
       "      <td>0.124052</td>\n",
       "      <td>...</td>\n",
       "      <td>-0.020955</td>\n",
       "      <td>0.005995</td>\n",
       "      <td>0.008656</td>\n",
       "      <td>-0.016170</td>\n",
       "      <td>-0.015410</td>\n",
       "      <td>0.015908</td>\n",
       "      <td>0.031119</td>\n",
       "      <td>-0.059752</td>\n",
       "      <td>1.000000</td>\n",
       "      <td>-0.430291</td>\n",
       "    </tr>\n",
       "    <tr>\n",
       "      <th>poutcome_unknown</th>\n",
       "      <td>-0.035029</td>\n",
       "      <td>-0.037787</td>\n",
       "      <td>-0.012233</td>\n",
       "      <td>0.113244</td>\n",
       "      <td>-0.551022</td>\n",
       "      <td>0.047075</td>\n",
       "      <td>-0.042363</td>\n",
       "      <td>0.035065</td>\n",
       "      <td>-0.150460</td>\n",
       "      <td>-0.092825</td>\n",
       "      <td>...</td>\n",
       "      <td>0.020619</td>\n",
       "      <td>0.003916</td>\n",
       "      <td>-0.019325</td>\n",
       "      <td>0.030330</td>\n",
       "      <td>0.003514</td>\n",
       "      <td>-0.022724</td>\n",
       "      <td>-0.010975</td>\n",
       "      <td>-0.875367</td>\n",
       "      <td>-0.430291</td>\n",
       "      <td>1.000000</td>\n",
       "    </tr>\n",
       "  </tbody>\n",
       "</table>\n",
       "<p>27 rows × 27 columns</p>\n",
       "</div>"
      ],
      "text/plain": [
       "                          age   balance  duration  campaign  previous  \\\n",
       "age                  1.000000  0.083820 -0.002367 -0.005148 -0.003511   \n",
       "balance              0.083820  1.000000 -0.015950 -0.009976  0.026196   \n",
       "duration            -0.002367 -0.015950  1.000000 -0.068382  0.018080   \n",
       "campaign            -0.005148 -0.009976 -0.068382  1.000000 -0.067833   \n",
       "previous            -0.003511  0.026196  0.018080 -0.067833  1.000000   \n",
       "default_cat         -0.017885 -0.070886 -0.011615 -0.012348 -0.026656   \n",
       "housing_cat         -0.193888 -0.050227  0.015740 -0.003574  0.038621   \n",
       "loan_cat            -0.011250 -0.071349 -0.004997  0.017120 -0.022115   \n",
       "deposit_cat          0.045092  0.017905  0.401118 -0.061147  0.116714   \n",
       "recent_pdays        -0.002103 -0.004674 -0.012351 -0.023233  0.131297   \n",
       "job_blue-collar     -0.049307 -0.057691  0.028114  0.008783 -0.014861   \n",
       "job_entrepreneur     0.015638  0.014523  0.016267 -0.012910 -0.013226   \n",
       "job_other            0.257016  0.042168  0.018500 -0.030698  0.015927   \n",
       "job_pink-collar     -0.025572 -0.013457  0.006877 -0.004610 -0.025205   \n",
       "job_self-employed    0.005505 -0.002064  0.000130  0.032040  0.005772   \n",
       "job_technician      -0.072723 -0.013779 -0.020514 -0.008999  0.009148   \n",
       "job_white-collar    -0.059235  0.037806 -0.031606  0.014733  0.015369   \n",
       "marital_divorced     0.148043 -0.036284  0.021373 -0.022157 -0.022158   \n",
       "marital_married      0.275139  0.017158 -0.036436  0.022000 -0.017640   \n",
       "marital_single      -0.410768  0.007525  0.024560 -0.008093  0.035558   \n",
       "education_primary    0.224938 -0.001551 -0.003640  0.009746 -0.020439   \n",
       "education_secondary -0.106872 -0.076574  0.023179 -0.019510 -0.008410   \n",
       "education_tertiary  -0.094042  0.076487 -0.017779  0.022631  0.026977   \n",
       "education_unknown    0.081111  0.019230 -0.010802 -0.020508 -0.004239   \n",
       "poutcome_failure     0.012693  0.025719 -0.012852 -0.094021  0.475289   \n",
       "poutcome_success     0.048626  0.029999  0.049255 -0.058268  0.250277   \n",
       "poutcome_unknown    -0.035029 -0.037787 -0.012233  0.113244 -0.551022   \n",
       "\n",
       "                     default_cat  housing_cat  loan_cat  deposit_cat  \\\n",
       "age                    -0.017885    -0.193888 -0.011250     0.045092   \n",
       "balance                -0.070886    -0.050227 -0.071349     0.017905   \n",
       "duration               -0.011615     0.015740 -0.004997     0.401118   \n",
       "campaign               -0.012348    -0.003574  0.017120    -0.061147   \n",
       "previous               -0.026656     0.038621 -0.022115     0.116714   \n",
       "default_cat             1.000000     0.006881  0.063994     0.001303   \n",
       "housing_cat             0.006881     1.000000  0.018451    -0.104683   \n",
       "loan_cat                0.063994     0.018451  1.000000    -0.070517   \n",
       "deposit_cat             0.001303    -0.104683 -0.070517     1.000000   \n",
       "recent_pdays           -0.009816    -0.035316  0.008965     0.046769   \n",
       "job_blue-collar        -0.008048     0.175040  0.017244    -0.068147   \n",
       "job_entrepreneur        0.037983    -0.002577  0.049794    -0.015968   \n",
       "job_other              -0.005970    -0.206721 -0.052607     0.084740   \n",
       "job_pink-collar         0.000574     0.034118  0.011754    -0.019314   \n",
       "job_self-employed       0.008064    -0.035287  0.006331    -0.003827   \n",
       "job_technician          0.009574    -0.012725  0.002647    -0.010154   \n",
       "job_white-collar       -0.015950    -0.013430 -0.013391     0.033036   \n",
       "marital_divorced        0.048878    -0.001197  0.017798     0.034840   \n",
       "marital_married        -0.039031     0.038432  0.032272    -0.064643   \n",
       "marital_single          0.007391    -0.041449 -0.048496     0.045815   \n",
       "education_primary      -0.006734    -0.000956 -0.016574    -0.027420   \n",
       "education_secondary     0.024901     0.111368  0.078139    -0.028744   \n",
       "education_tertiary     -0.021407    -0.098624 -0.043434     0.056649   \n",
       "education_unknown      -0.001240    -0.051205 -0.066621    -0.008870   \n",
       "poutcome_failure       -0.040055     0.094246 -0.011652     0.014556   \n",
       "poutcome_success       -0.022410    -0.088504 -0.050643     0.283481   \n",
       "poutcome_unknown        0.047075    -0.042363  0.035065    -0.150460   \n",
       "\n",
       "                     recent_pdays  ...  marital_divorced  marital_married  \\\n",
       "age                     -0.002103  ...          0.148043         0.275139   \n",
       "balance                 -0.004674  ...         -0.036284         0.017158   \n",
       "duration                -0.012351  ...          0.021373        -0.036436   \n",
       "campaign                -0.023233  ...         -0.022157         0.022000   \n",
       "previous                 0.131297  ...         -0.022158        -0.017640   \n",
       "default_cat             -0.009816  ...          0.048878        -0.039031   \n",
       "housing_cat             -0.035316  ...         -0.001197         0.038432   \n",
       "loan_cat                 0.008965  ...          0.017798         0.032272   \n",
       "deposit_cat              0.046769  ...          0.034840        -0.064643   \n",
       "recent_pdays             1.000000  ...         -0.019769         0.016323   \n",
       "job_blue-collar         -0.015150  ...         -0.053302         0.120618   \n",
       "job_entrepreneur        -0.011934  ...         -0.013182         0.067564   \n",
       "job_other                0.008617  ...          0.022226        -0.008812   \n",
       "job_pink-collar         -0.019114  ...          0.028323        -0.010308   \n",
       "job_self-employed       -0.010002  ...         -0.022269         0.031850   \n",
       "job_technician          -0.020586  ...         -0.001272        -0.077779   \n",
       "job_white-collar         0.046325  ...          0.028061        -0.070494   \n",
       "marital_divorced        -0.019769  ...          1.000000        -0.463175   \n",
       "marital_married          0.016323  ...         -0.463175         1.000000   \n",
       "marital_single          -0.003581  ...         -0.218091        -0.763919   \n",
       "education_primary       -0.020722  ...         -0.000352         0.135892   \n",
       "education_secondary     -0.026180  ...          0.000945         0.000319   \n",
       "education_tertiary       0.040516  ...         -0.004009        -0.107669   \n",
       "education_unknown        0.009764  ...          0.007473         0.002994   \n",
       "poutcome_failure         0.036209  ...         -0.011579        -0.007541   \n",
       "poutcome_success         0.124052  ...         -0.020955         0.005995   \n",
       "poutcome_unknown        -0.092825  ...          0.020619         0.003916   \n",
       "\n",
       "                     marital_single  education_primary  education_secondary  \\\n",
       "age                       -0.410768           0.224938            -0.106872   \n",
       "balance                    0.007525          -0.001551            -0.076574   \n",
       "duration                   0.024560          -0.003640             0.023179   \n",
       "campaign                  -0.008093           0.009746            -0.019510   \n",
       "previous                   0.035558          -0.020439            -0.008410   \n",
       "default_cat                0.007391          -0.006734             0.024901   \n",
       "housing_cat               -0.041449          -0.000956             0.111368   \n",
       "loan_cat                  -0.048496          -0.016574             0.078139   \n",
       "deposit_cat                0.045815          -0.027420            -0.028744   \n",
       "recent_pdays              -0.003581          -0.020722            -0.026180   \n",
       "job_blue-collar           -0.094010           0.345922             0.045120   \n",
       "job_entrepreneur          -0.064801           0.002638            -0.064775   \n",
       "job_other                 -0.006480           0.086506            -0.024174   \n",
       "job_pink-collar           -0.009272           0.005141             0.166806   \n",
       "job_self-employed         -0.018858          -0.039118            -0.038935   \n",
       "job_technician             0.086573          -0.165262             0.151139   \n",
       "job_white-collar           0.057194          -0.213811            -0.217263   \n",
       "marital_divorced          -0.218091          -0.000352             0.000945   \n",
       "marital_married           -0.763919           0.135892             0.000319   \n",
       "marital_single             1.000000          -0.149384            -0.001040   \n",
       "education_primary         -0.149384           1.000000            -0.428571   \n",
       "education_secondary       -0.001040          -0.428571             1.000000   \n",
       "education_tertiary         0.121481          -0.274062            -0.665751   \n",
       "education_unknown         -0.008737          -0.087248            -0.211943   \n",
       "poutcome_failure           0.016734          -0.024879             0.004368   \n",
       "poutcome_success           0.008656          -0.016170            -0.015410   \n",
       "poutcome_unknown          -0.019325           0.030330             0.003514   \n",
       "\n",
       "                     education_tertiary  education_unknown  poutcome_failure  \\\n",
       "age                           -0.094042           0.081111          0.012693   \n",
       "balance                        0.076487           0.019230          0.025719   \n",
       "duration                      -0.017779          -0.010802         -0.012852   \n",
       "campaign                       0.022631          -0.020508         -0.094021   \n",
       "previous                       0.026977          -0.004239          0.475289   \n",
       "default_cat                   -0.021407          -0.001240         -0.040055   \n",
       "housing_cat                   -0.098624          -0.051205          0.094246   \n",
       "loan_cat                      -0.043434          -0.066621         -0.011652   \n",
       "deposit_cat                    0.056649          -0.008870          0.014556   \n",
       "recent_pdays                   0.040516           0.009764          0.036209   \n",
       "job_blue-collar               -0.321384           0.005109         -0.002677   \n",
       "job_entrepreneur               0.058345           0.023790         -0.012069   \n",
       "job_other                     -0.083673           0.097884          0.006874   \n",
       "job_pink-collar               -0.180382          -0.013411         -0.022877   \n",
       "job_self-employed              0.081801          -0.020118         -0.013843   \n",
       "job_technician                -0.023592          -0.028889         -0.000451   \n",
       "job_white-collar               0.420552          -0.037745          0.024663   \n",
       "marital_divorced              -0.004009           0.007473         -0.011579   \n",
       "marital_married               -0.107669           0.002994         -0.007541   \n",
       "marital_single                 0.121481          -0.008737          0.016734   \n",
       "education_primary             -0.274062          -0.087248         -0.024879   \n",
       "education_secondary           -0.665751          -0.211943          0.004368   \n",
       "education_tertiary             1.000000          -0.135533          0.016609   \n",
       "education_unknown             -0.135533           1.000000         -0.004530   \n",
       "poutcome_failure               0.016609          -0.004530          1.000000   \n",
       "poutcome_success               0.015908           0.031119         -0.059752   \n",
       "poutcome_unknown              -0.022724          -0.010975         -0.875367   \n",
       "\n",
       "                     poutcome_success  poutcome_unknown  \n",
       "age                          0.048626         -0.035029  \n",
       "balance                      0.029999         -0.037787  \n",
       "duration                     0.049255         -0.012233  \n",
       "campaign                    -0.058268          0.113244  \n",
       "previous                     0.250277         -0.551022  \n",
       "default_cat                 -0.022410          0.047075  \n",
       "housing_cat                 -0.088504         -0.042363  \n",
       "loan_cat                    -0.050643          0.035065  \n",
       "deposit_cat                  0.283481         -0.150460  \n",
       "recent_pdays                 0.124052         -0.092825  \n",
       "job_blue-collar             -0.042435          0.022973  \n",
       "job_entrepreneur            -0.026645          0.023819  \n",
       "job_other                    0.044437         -0.027738  \n",
       "job_pink-collar             -0.008656          0.024880  \n",
       "job_self-employed           -0.014977          0.019772  \n",
       "job_technician               0.021532         -0.010020  \n",
       "job_white-collar             0.013419         -0.028802  \n",
       "marital_divorced            -0.020955          0.020619  \n",
       "marital_married              0.005995          0.003916  \n",
       "marital_single               0.008656         -0.019325  \n",
       "education_primary           -0.016170          0.030330  \n",
       "education_secondary         -0.015410          0.003514  \n",
       "education_tertiary           0.015908         -0.022724  \n",
       "education_unknown            0.031119         -0.010975  \n",
       "poutcome_failure            -0.059752         -0.875367  \n",
       "poutcome_success             1.000000         -0.430291  \n",
       "poutcome_unknown            -0.430291          1.000000  \n",
       "\n",
       "[27 rows x 27 columns]"
      ]
     },
     "execution_count": 40,
     "metadata": {},
     "output_type": "execute_result"
    }
   ],
   "source": [
    "# The Correltion matrix\n",
    "corr = bankcl.corr()\n",
    "corr"
   ]
  },
  {
   "cell_type": "code",
   "execution_count": 58,
   "metadata": {
    "_cell_guid": "2eb696c8-d468-4642-b7e6-ef3deca070ac",
    "_uuid": "0f56d9c3946d4a50e0048c89ae8373e2204bc61a"
   },
   "outputs": [
    {
     "ename": "TypeError",
     "evalue": "object of type <class 'float'> cannot be safely interpreted as an integer.",
     "output_type": "error",
     "traceback": [
      "\u001b[0;31m---------------------------------------------------------------------------\u001b[0m",
      "\u001b[0;31mTypeError\u001b[0m                                 Traceback (most recent call last)",
      "\u001b[0;32m~/.virtualenvs/ml/lib/python3.6/site-packages/numpy/core/function_base.py\u001b[0m in \u001b[0;36mlinspace\u001b[0;34m(start, stop, num, endpoint, retstep, dtype, axis)\u001b[0m\n\u001b[1;32m    116\u001b[0m     \u001b[0;32mtry\u001b[0m\u001b[0;34m:\u001b[0m\u001b[0;34m\u001b[0m\u001b[0;34m\u001b[0m\u001b[0m\n\u001b[0;32m--> 117\u001b[0;31m         \u001b[0mnum\u001b[0m \u001b[0;34m=\u001b[0m \u001b[0moperator\u001b[0m\u001b[0;34m.\u001b[0m\u001b[0mindex\u001b[0m\u001b[0;34m(\u001b[0m\u001b[0mnum\u001b[0m\u001b[0;34m)\u001b[0m\u001b[0;34m\u001b[0m\u001b[0;34m\u001b[0m\u001b[0m\n\u001b[0m\u001b[1;32m    118\u001b[0m     \u001b[0;32mexcept\u001b[0m \u001b[0mTypeError\u001b[0m\u001b[0;34m:\u001b[0m\u001b[0;34m\u001b[0m\u001b[0;34m\u001b[0m\u001b[0m\n",
      "\u001b[0;31mTypeError\u001b[0m: 'float' object cannot be interpreted as an integer",
      "\nDuring handling of the above exception, another exception occurred:\n",
      "\u001b[0;31mTypeError\u001b[0m                                 Traceback (most recent call last)",
      "\u001b[0;32m<ipython-input-58-5db96883dd2e>\u001b[0m in \u001b[0;36m<module>\u001b[0;34m\u001b[0m\n\u001b[1;32m      1\u001b[0m \u001b[0;31m# Heatmap\u001b[0m\u001b[0;34m\u001b[0m\u001b[0;34m\u001b[0m\u001b[0;34m\u001b[0m\u001b[0m\n\u001b[1;32m      2\u001b[0m \u001b[0mplt\u001b[0m\u001b[0;34m.\u001b[0m\u001b[0mfigure\u001b[0m\u001b[0;34m(\u001b[0m\u001b[0mfigsize\u001b[0m \u001b[0;34m=\u001b[0m \u001b[0;34m(\u001b[0m\u001b[0;36m10\u001b[0m\u001b[0;34m,\u001b[0m\u001b[0;36m10\u001b[0m\u001b[0;34m)\u001b[0m\u001b[0;34m)\u001b[0m\u001b[0;34m\u001b[0m\u001b[0;34m\u001b[0m\u001b[0m\n\u001b[0;32m----> 3\u001b[0;31m \u001b[0mcmap\u001b[0m \u001b[0;34m=\u001b[0m \u001b[0msns\u001b[0m\u001b[0;34m.\u001b[0m\u001b[0mdiverging_palette\u001b[0m\u001b[0;34m(\u001b[0m\u001b[0;36m240\u001b[0m\u001b[0;34m,\u001b[0m \u001b[0;36m10\u001b[0m\u001b[0;34m,\u001b[0m \u001b[0mas_cmap\u001b[0m\u001b[0;34m=\u001b[0m\u001b[0;32mTrue\u001b[0m\u001b[0;34m)\u001b[0m\u001b[0;34m\u001b[0m\u001b[0;34m\u001b[0m\u001b[0m\n\u001b[0m\u001b[1;32m      4\u001b[0m \u001b[0msns\u001b[0m\u001b[0;34m.\u001b[0m\u001b[0mheatmap\u001b[0m\u001b[0;34m(\u001b[0m\u001b[0mcorr\u001b[0m\u001b[0;34m,\u001b[0m \u001b[0mxticklabels\u001b[0m\u001b[0;34m=\u001b[0m\u001b[0mcorr\u001b[0m\u001b[0;34m.\u001b[0m\u001b[0mcolumns\u001b[0m\u001b[0;34m.\u001b[0m\u001b[0mvalues\u001b[0m\u001b[0;34m,\u001b[0m \u001b[0myticklabels\u001b[0m\u001b[0;34m=\u001b[0m\u001b[0mcorr\u001b[0m\u001b[0;34m.\u001b[0m\u001b[0mcolumns\u001b[0m\u001b[0;34m.\u001b[0m\u001b[0mvalues\u001b[0m\u001b[0;34m,\u001b[0m \u001b[0mcmap\u001b[0m\u001b[0;34m=\u001b[0m\u001b[0mcmap\u001b[0m\u001b[0;34m,\u001b[0m \u001b[0mvmax\u001b[0m\u001b[0;34m=\u001b[0m\u001b[0;36m.3\u001b[0m\u001b[0;34m,\u001b[0m \u001b[0mcenter\u001b[0m\u001b[0;34m=\u001b[0m\u001b[0;36m0\u001b[0m\u001b[0;34m,\u001b[0m \u001b[0msquare\u001b[0m\u001b[0;34m=\u001b[0m\u001b[0;32mTrue\u001b[0m\u001b[0;34m,\u001b[0m \u001b[0mlinewidths\u001b[0m\u001b[0;34m=\u001b[0m\u001b[0;36m.5\u001b[0m\u001b[0;34m,\u001b[0m \u001b[0mcbar_kws\u001b[0m\u001b[0;34m=\u001b[0m\u001b[0;34m{\u001b[0m\u001b[0;34m\"shrink\"\u001b[0m\u001b[0;34m:\u001b[0m \u001b[0;36m.82\u001b[0m\u001b[0;34m}\u001b[0m\u001b[0;34m)\u001b[0m\u001b[0;34m\u001b[0m\u001b[0;34m\u001b[0m\u001b[0m\n\u001b[1;32m      5\u001b[0m \u001b[0mplt\u001b[0m\u001b[0;34m.\u001b[0m\u001b[0mtitle\u001b[0m\u001b[0;34m(\u001b[0m\u001b[0;34m'Heatmap of Correlation Matrix'\u001b[0m\u001b[0;34m)\u001b[0m\u001b[0;34m\u001b[0m\u001b[0;34m\u001b[0m\u001b[0m\n",
      "\u001b[0;32m~/.virtualenvs/ml/lib/python3.6/site-packages/seaborn/palettes.py\u001b[0m in \u001b[0;36mdiverging_palette\u001b[0;34m(h_neg, h_pos, s, l, sep, n, center, as_cmap)\u001b[0m\n\u001b[1;32m    742\u001b[0m     \"\"\"\n\u001b[1;32m    743\u001b[0m     \u001b[0mpalfunc\u001b[0m \u001b[0;34m=\u001b[0m \u001b[0mdark_palette\u001b[0m \u001b[0;32mif\u001b[0m \u001b[0mcenter\u001b[0m \u001b[0;34m==\u001b[0m \u001b[0;34m\"dark\"\u001b[0m \u001b[0;32melse\u001b[0m \u001b[0mlight_palette\u001b[0m\u001b[0;34m\u001b[0m\u001b[0;34m\u001b[0m\u001b[0m\n\u001b[0;32m--> 744\u001b[0;31m     \u001b[0mneg\u001b[0m \u001b[0;34m=\u001b[0m \u001b[0mpalfunc\u001b[0m\u001b[0;34m(\u001b[0m\u001b[0;34m(\u001b[0m\u001b[0mh_neg\u001b[0m\u001b[0;34m,\u001b[0m \u001b[0ms\u001b[0m\u001b[0;34m,\u001b[0m \u001b[0ml\u001b[0m\u001b[0;34m)\u001b[0m\u001b[0;34m,\u001b[0m \u001b[0;36m128\u001b[0m \u001b[0;34m-\u001b[0m \u001b[0;34m(\u001b[0m\u001b[0msep\u001b[0m \u001b[0;34m/\u001b[0m \u001b[0;36m2\u001b[0m\u001b[0;34m)\u001b[0m\u001b[0;34m,\u001b[0m \u001b[0mreverse\u001b[0m\u001b[0;34m=\u001b[0m\u001b[0;32mTrue\u001b[0m\u001b[0;34m,\u001b[0m \u001b[0minput\u001b[0m\u001b[0;34m=\u001b[0m\u001b[0;34m\"husl\"\u001b[0m\u001b[0;34m)\u001b[0m\u001b[0;34m\u001b[0m\u001b[0;34m\u001b[0m\u001b[0m\n\u001b[0m\u001b[1;32m    745\u001b[0m     \u001b[0mpos\u001b[0m \u001b[0;34m=\u001b[0m \u001b[0mpalfunc\u001b[0m\u001b[0;34m(\u001b[0m\u001b[0;34m(\u001b[0m\u001b[0mh_pos\u001b[0m\u001b[0;34m,\u001b[0m \u001b[0ms\u001b[0m\u001b[0;34m,\u001b[0m \u001b[0ml\u001b[0m\u001b[0;34m)\u001b[0m\u001b[0;34m,\u001b[0m \u001b[0;36m128\u001b[0m \u001b[0;34m-\u001b[0m \u001b[0;34m(\u001b[0m\u001b[0msep\u001b[0m \u001b[0;34m/\u001b[0m \u001b[0;36m2\u001b[0m\u001b[0;34m)\u001b[0m\u001b[0;34m,\u001b[0m \u001b[0minput\u001b[0m\u001b[0;34m=\u001b[0m\u001b[0;34m\"husl\"\u001b[0m\u001b[0;34m)\u001b[0m\u001b[0;34m\u001b[0m\u001b[0;34m\u001b[0m\u001b[0m\n\u001b[1;32m    746\u001b[0m     midpoint = dict(light=[(.95, .95, .95, 1.)],\n",
      "\u001b[0;32m~/.virtualenvs/ml/lib/python3.6/site-packages/seaborn/palettes.py\u001b[0m in \u001b[0;36mlight_palette\u001b[0;34m(color, n_colors, reverse, as_cmap, input)\u001b[0m\n\u001b[1;32m    639\u001b[0m     \u001b[0mlight\u001b[0m \u001b[0;34m=\u001b[0m \u001b[0mset_hls_values\u001b[0m\u001b[0;34m(\u001b[0m\u001b[0mcolor\u001b[0m\u001b[0;34m,\u001b[0m \u001b[0ml\u001b[0m\u001b[0;34m=\u001b[0m\u001b[0;36m.95\u001b[0m\u001b[0;34m)\u001b[0m  \u001b[0;31m# noqa\u001b[0m\u001b[0;34m\u001b[0m\u001b[0;34m\u001b[0m\u001b[0m\n\u001b[1;32m    640\u001b[0m     \u001b[0mcolors\u001b[0m \u001b[0;34m=\u001b[0m \u001b[0;34m[\u001b[0m\u001b[0mcolor\u001b[0m\u001b[0;34m,\u001b[0m \u001b[0mlight\u001b[0m\u001b[0;34m]\u001b[0m \u001b[0;32mif\u001b[0m \u001b[0mreverse\u001b[0m \u001b[0;32melse\u001b[0m \u001b[0;34m[\u001b[0m\u001b[0mlight\u001b[0m\u001b[0;34m,\u001b[0m \u001b[0mcolor\u001b[0m\u001b[0;34m]\u001b[0m\u001b[0;34m\u001b[0m\u001b[0;34m\u001b[0m\u001b[0m\n\u001b[0;32m--> 641\u001b[0;31m     \u001b[0;32mreturn\u001b[0m \u001b[0mblend_palette\u001b[0m\u001b[0;34m(\u001b[0m\u001b[0mcolors\u001b[0m\u001b[0;34m,\u001b[0m \u001b[0mn_colors\u001b[0m\u001b[0;34m,\u001b[0m \u001b[0mas_cmap\u001b[0m\u001b[0;34m)\u001b[0m\u001b[0;34m\u001b[0m\u001b[0;34m\u001b[0m\u001b[0m\n\u001b[0m\u001b[1;32m    642\u001b[0m \u001b[0;34m\u001b[0m\u001b[0m\n\u001b[1;32m    643\u001b[0m \u001b[0;34m\u001b[0m\u001b[0m\n",
      "\u001b[0;32m~/.virtualenvs/ml/lib/python3.6/site-packages/seaborn/palettes.py\u001b[0m in \u001b[0;36mblend_palette\u001b[0;34m(colors, n_colors, as_cmap, input)\u001b[0m\n\u001b[1;32m    775\u001b[0m     \u001b[0mpal\u001b[0m \u001b[0;34m=\u001b[0m \u001b[0mmpl\u001b[0m\u001b[0;34m.\u001b[0m\u001b[0mcolors\u001b[0m\u001b[0;34m.\u001b[0m\u001b[0mLinearSegmentedColormap\u001b[0m\u001b[0;34m.\u001b[0m\u001b[0mfrom_list\u001b[0m\u001b[0;34m(\u001b[0m\u001b[0mname\u001b[0m\u001b[0;34m,\u001b[0m \u001b[0mcolors\u001b[0m\u001b[0;34m)\u001b[0m\u001b[0;34m\u001b[0m\u001b[0;34m\u001b[0m\u001b[0m\n\u001b[1;32m    776\u001b[0m     \u001b[0;32mif\u001b[0m \u001b[0;32mnot\u001b[0m \u001b[0mas_cmap\u001b[0m\u001b[0;34m:\u001b[0m\u001b[0;34m\u001b[0m\u001b[0;34m\u001b[0m\u001b[0m\n\u001b[0;32m--> 777\u001b[0;31m         \u001b[0mpal\u001b[0m \u001b[0;34m=\u001b[0m \u001b[0m_ColorPalette\u001b[0m\u001b[0;34m(\u001b[0m\u001b[0mpal\u001b[0m\u001b[0;34m(\u001b[0m\u001b[0mnp\u001b[0m\u001b[0;34m.\u001b[0m\u001b[0mlinspace\u001b[0m\u001b[0;34m(\u001b[0m\u001b[0;36m0\u001b[0m\u001b[0;34m,\u001b[0m \u001b[0;36m1\u001b[0m\u001b[0;34m,\u001b[0m \u001b[0mn_colors\u001b[0m\u001b[0;34m)\u001b[0m\u001b[0;34m)\u001b[0m\u001b[0;34m)\u001b[0m\u001b[0;34m\u001b[0m\u001b[0;34m\u001b[0m\u001b[0m\n\u001b[0m\u001b[1;32m    778\u001b[0m     \u001b[0;32mreturn\u001b[0m \u001b[0mpal\u001b[0m\u001b[0;34m\u001b[0m\u001b[0;34m\u001b[0m\u001b[0m\n\u001b[1;32m    779\u001b[0m \u001b[0;34m\u001b[0m\u001b[0m\n",
      "\u001b[0;32m<__array_function__ internals>\u001b[0m in \u001b[0;36mlinspace\u001b[0;34m(*args, **kwargs)\u001b[0m\n",
      "\u001b[0;32m~/.virtualenvs/ml/lib/python3.6/site-packages/numpy/core/function_base.py\u001b[0m in \u001b[0;36mlinspace\u001b[0;34m(start, stop, num, endpoint, retstep, dtype, axis)\u001b[0m\n\u001b[1;32m    119\u001b[0m         raise TypeError(\n\u001b[1;32m    120\u001b[0m             \u001b[0;34m\"object of type {} cannot be safely interpreted as an integer.\"\u001b[0m\u001b[0;34m\u001b[0m\u001b[0;34m\u001b[0m\u001b[0m\n\u001b[0;32m--> 121\u001b[0;31m                 .format(type(num)))\n\u001b[0m\u001b[1;32m    122\u001b[0m \u001b[0;34m\u001b[0m\u001b[0m\n\u001b[1;32m    123\u001b[0m     \u001b[0;32mif\u001b[0m \u001b[0mnum\u001b[0m \u001b[0;34m<\u001b[0m \u001b[0;36m0\u001b[0m\u001b[0;34m:\u001b[0m\u001b[0;34m\u001b[0m\u001b[0;34m\u001b[0m\u001b[0m\n",
      "\u001b[0;31mTypeError\u001b[0m: object of type <class 'float'> cannot be safely interpreted as an integer."
     ]
    },
    {
     "data": {
      "text/plain": [
       "<Figure size 720x720 with 0 Axes>"
      ]
     },
     "metadata": {},
     "output_type": "display_data"
    }
   ],
   "source": [
    "# Heatmap\n",
    "plt.figure(figsize = (10,10))\n",
    "# cmap = sns.diverging_palette(240, 10, as_cmap=True)\n",
    "sns.heatmap(corr, xticklabels=corr.columns.values, yticklabels=corr.columns.values, cmap=cmap, vmax=.3, center=0, square=True, linewidths=.5, cbar_kws={\"shrink\": .82})\n",
    "plt.title('Heatmap of Correlation Matrix')"
   ]
  },
  {
   "cell_type": "code",
   "execution_count": 43,
   "metadata": {
    "_cell_guid": "73994c65-9028-4ddc-98a1-5b7cdb10a113",
    "_uuid": "ff6ca40f9fd1e7710aa3b0c0ad020ba73aa34a5e"
   },
   "outputs": [
    {
     "data": {
      "text/html": [
       "<div>\n",
       "<style scoped>\n",
       "    .dataframe tbody tr th:only-of-type {\n",
       "        vertical-align: middle;\n",
       "    }\n",
       "\n",
       "    .dataframe tbody tr th {\n",
       "        vertical-align: top;\n",
       "    }\n",
       "\n",
       "    .dataframe thead th {\n",
       "        text-align: right;\n",
       "    }\n",
       "</style>\n",
       "<table border=\"1\" class=\"dataframe\">\n",
       "  <thead>\n",
       "    <tr style=\"text-align: right;\">\n",
       "      <th></th>\n",
       "      <th>deposit_cat</th>\n",
       "    </tr>\n",
       "  </thead>\n",
       "  <tbody>\n",
       "    <tr>\n",
       "      <th>duration</th>\n",
       "      <td>0.401118</td>\n",
       "    </tr>\n",
       "    <tr>\n",
       "      <th>poutcome_success</th>\n",
       "      <td>0.283481</td>\n",
       "    </tr>\n",
       "    <tr>\n",
       "      <th>previous</th>\n",
       "      <td>0.116714</td>\n",
       "    </tr>\n",
       "    <tr>\n",
       "      <th>job_other</th>\n",
       "      <td>0.084740</td>\n",
       "    </tr>\n",
       "    <tr>\n",
       "      <th>education_tertiary</th>\n",
       "      <td>0.056649</td>\n",
       "    </tr>\n",
       "    <tr>\n",
       "      <th>recent_pdays</th>\n",
       "      <td>0.046769</td>\n",
       "    </tr>\n",
       "    <tr>\n",
       "      <th>marital_single</th>\n",
       "      <td>0.045815</td>\n",
       "    </tr>\n",
       "    <tr>\n",
       "      <th>age</th>\n",
       "      <td>0.045092</td>\n",
       "    </tr>\n",
       "    <tr>\n",
       "      <th>marital_divorced</th>\n",
       "      <td>0.034840</td>\n",
       "    </tr>\n",
       "    <tr>\n",
       "      <th>job_white-collar</th>\n",
       "      <td>0.033036</td>\n",
       "    </tr>\n",
       "    <tr>\n",
       "      <th>balance</th>\n",
       "      <td>0.017905</td>\n",
       "    </tr>\n",
       "    <tr>\n",
       "      <th>poutcome_failure</th>\n",
       "      <td>0.014556</td>\n",
       "    </tr>\n",
       "    <tr>\n",
       "      <th>default_cat</th>\n",
       "      <td>0.001303</td>\n",
       "    </tr>\n",
       "    <tr>\n",
       "      <th>job_self-employed</th>\n",
       "      <td>-0.003827</td>\n",
       "    </tr>\n",
       "    <tr>\n",
       "      <th>education_unknown</th>\n",
       "      <td>-0.008870</td>\n",
       "    </tr>\n",
       "    <tr>\n",
       "      <th>job_technician</th>\n",
       "      <td>-0.010154</td>\n",
       "    </tr>\n",
       "    <tr>\n",
       "      <th>job_entrepreneur</th>\n",
       "      <td>-0.015968</td>\n",
       "    </tr>\n",
       "    <tr>\n",
       "      <th>job_pink-collar</th>\n",
       "      <td>-0.019314</td>\n",
       "    </tr>\n",
       "    <tr>\n",
       "      <th>education_primary</th>\n",
       "      <td>-0.027420</td>\n",
       "    </tr>\n",
       "    <tr>\n",
       "      <th>education_secondary</th>\n",
       "      <td>-0.028744</td>\n",
       "    </tr>\n",
       "    <tr>\n",
       "      <th>campaign</th>\n",
       "      <td>-0.061147</td>\n",
       "    </tr>\n",
       "    <tr>\n",
       "      <th>marital_married</th>\n",
       "      <td>-0.064643</td>\n",
       "    </tr>\n",
       "    <tr>\n",
       "      <th>job_blue-collar</th>\n",
       "      <td>-0.068147</td>\n",
       "    </tr>\n",
       "    <tr>\n",
       "      <th>loan_cat</th>\n",
       "      <td>-0.070517</td>\n",
       "    </tr>\n",
       "    <tr>\n",
       "      <th>housing_cat</th>\n",
       "      <td>-0.104683</td>\n",
       "    </tr>\n",
       "    <tr>\n",
       "      <th>poutcome_unknown</th>\n",
       "      <td>-0.150460</td>\n",
       "    </tr>\n",
       "  </tbody>\n",
       "</table>\n",
       "</div>"
      ],
      "text/plain": [
       "                     deposit_cat\n",
       "duration                0.401118\n",
       "poutcome_success        0.283481\n",
       "previous                0.116714\n",
       "job_other               0.084740\n",
       "education_tertiary      0.056649\n",
       "recent_pdays            0.046769\n",
       "marital_single          0.045815\n",
       "age                     0.045092\n",
       "marital_divorced        0.034840\n",
       "job_white-collar        0.033036\n",
       "balance                 0.017905\n",
       "poutcome_failure        0.014556\n",
       "default_cat             0.001303\n",
       "job_self-employed      -0.003827\n",
       "education_unknown      -0.008870\n",
       "job_technician         -0.010154\n",
       "job_entrepreneur       -0.015968\n",
       "job_pink-collar        -0.019314\n",
       "education_primary      -0.027420\n",
       "education_secondary    -0.028744\n",
       "campaign               -0.061147\n",
       "marital_married        -0.064643\n",
       "job_blue-collar        -0.068147\n",
       "loan_cat               -0.070517\n",
       "housing_cat            -0.104683\n",
       "poutcome_unknown       -0.150460"
      ]
     },
     "execution_count": 43,
     "metadata": {},
     "output_type": "execute_result"
    }
   ],
   "source": [
    "# Extract the deposte_cat column (the dependent variable)\n",
    "corr_deposite = pd.DataFrame(corr['deposit_cat'].drop('deposit_cat'))\n",
    "corr_deposite.sort_values(by = 'deposit_cat', ascending = False)"
   ]
  },
  {
   "cell_type": "markdown",
   "metadata": {
    "_cell_guid": "c281ea25-423f-4477-bab5-e1c262d20931",
    "_uuid": "0394776ec1c21f2c30fc66a1ce7a22c7a5e9df5f"
   },
   "source": [
    "> ## Build the Data Model"
   ]
  },
  {
   "cell_type": "code",
   "execution_count": 44,
   "metadata": {
    "_cell_guid": "5675ce89-28f8-409d-9387-ce4641bc4a7b",
    "_uuid": "3b14efa859cd38fce1e118ceae7144d8563dc014"
   },
   "outputs": [],
   "source": [
    "# Train-Test split: 20% test data\n",
    "data_drop_deposite = bankcl.drop('deposit_cat', 1)\n",
    "label = bankcl.deposit_cat\n",
    "data_train, data_test, label_train, label_test = train_test_split(data_drop_deposite, label, test_size = 0.2, random_state = 50)"
   ]
  },
  {
   "cell_type": "code",
   "execution_count": 45,
   "metadata": {
    "_cell_guid": "7b8c8772-a2ec-4399-807e-73ccc4951dd1",
    "_uuid": "4a48b73d67f4f57349d3dbc75c4d02cfeb1d82f9",
    "scrolled": true
   },
   "outputs": [
    {
     "name": "stdout",
     "output_type": "stream",
     "text": [
      "Training score:  0.8985066371681416\n",
      "Testing score:  0.9104972375690608\n"
     ]
    }
   ],
   "source": [
    "# Decision tree with depth = 2\n",
    "dt2 = tree.DecisionTreeClassifier(random_state=1, max_depth=2)\n",
    "dt2.fit(data_train, label_train)\n",
    "dt2_score_train = dt2.score(data_train, label_train)\n",
    "print(\"Training score: \",dt2_score_train)\n",
    "dt2_score_test = dt2.score(data_test, label_test)\n",
    "print(\"Testing score: \",dt2_score_test)"
   ]
  },
  {
   "cell_type": "code",
   "execution_count": 46,
   "metadata": {
    "_cell_guid": "14b771bd-b87e-4ac4-b3ec-64da8bbb7b68",
    "_uuid": "c828f56ae83bf3eac076c3642ad26e51f660d643"
   },
   "outputs": [
    {
     "name": "stdout",
     "output_type": "stream",
     "text": [
      "Training score:  0.9026548672566371\n",
      "Testing score:  0.9005524861878453\n"
     ]
    }
   ],
   "source": [
    "# Decision tree with depth = 3\n",
    "dt3 = tree.DecisionTreeClassifier(random_state=1, max_depth=3)\n",
    "dt3.fit(data_train, label_train)\n",
    "dt3_score_train = dt3.score(data_train, label_train)\n",
    "print(\"Training score: \",dt3_score_train)\n",
    "dt3_score_test = dt3.score(data_test, label_test)\n",
    "print(\"Testing score: \",dt3_score_test)"
   ]
  },
  {
   "cell_type": "code",
   "execution_count": 47,
   "metadata": {
    "_cell_guid": "60190973-9780-4b6a-9762-7e43d442db6b",
    "_uuid": "f45e7da9e4052b837a3c363f03de439d16cca6d0"
   },
   "outputs": [
    {
     "name": "stdout",
     "output_type": "stream",
     "text": [
      "Training score:  0.90625\n",
      "Testing score:  0.8928176795580111\n"
     ]
    }
   ],
   "source": [
    "# Decision tree with depth = 4\n",
    "dt4 = tree.DecisionTreeClassifier(random_state=1, max_depth=4)\n",
    "dt4.fit(data_train, label_train)\n",
    "dt4_score_train = dt4.score(data_train, label_train)\n",
    "print(\"Training score: \",dt4_score_train)\n",
    "dt4_score_test = dt4.score(data_test, label_test)\n",
    "print(\"Testing score: \",dt4_score_test)"
   ]
  },
  {
   "cell_type": "code",
   "execution_count": 48,
   "metadata": {
    "_cell_guid": "0f61abaa-9d1e-4fa7-83e7-23f11bdf90e8",
    "_uuid": "a3b51e1daf328cc5157234c3e4bf0be5174ce62f"
   },
   "outputs": [
    {
     "name": "stdout",
     "output_type": "stream",
     "text": [
      "Training score:  0.9222898230088495\n",
      "Testing score:  0.8961325966850828\n"
     ]
    }
   ],
   "source": [
    "# Decision tree with depth = 6\n",
    "dt6 = tree.DecisionTreeClassifier(random_state=1, max_depth=6)\n",
    "dt6.fit(data_train, label_train)\n",
    "dt6_score_train = dt6.score(data_train, label_train)\n",
    "print(\"Training score: \",dt6_score_train)\n",
    "dt6_score_test = dt6.score(data_test, label_test)\n",
    "print(\"Testing score: \",dt6_score_test)"
   ]
  },
  {
   "cell_type": "code",
   "execution_count": 49,
   "metadata": {
    "_cell_guid": "32a4d8a7-b285-47c2-988c-8aa6a66933e2",
    "_uuid": "cabee45b6dd75bd0aac571320e300c5d2c94c045"
   },
   "outputs": [
    {
     "name": "stdout",
     "output_type": "stream",
     "text": [
      "Training score:  1.0\n",
      "Testing score:  0.8729281767955801\n"
     ]
    }
   ],
   "source": [
    "# Decision tree: To the full depth\n",
    "dt1 = tree.DecisionTreeClassifier()\n",
    "dt1.fit(data_train, label_train)\n",
    "dt1_score_train = dt1.score(data_train, label_train)\n",
    "print(\"Training score: \", dt1_score_train)\n",
    "dt1_score_test = dt1.score(data_test, label_test)\n",
    "print(\"Testing score: \", dt1_score_test)"
   ]
  },
  {
   "cell_type": "markdown",
   "metadata": {
    "_cell_guid": "12a029ef-2d45-452c-927d-2f826b5f9a68",
    "_uuid": "e1c1dad3c3e239f3f4b19d4b15da9949c2bd9ec2"
   },
   "source": [
    "#### Compare Training and Testing scores for various tree depths used"
   ]
  },
  {
   "cell_type": "code",
   "execution_count": 50,
   "metadata": {
    "_cell_guid": "6fb20c58-b5dc-4944-9b78-258d2f2e0da2",
    "_uuid": "92eee54d59182aeed9b828fe2a57818ffcfcbb31",
    "scrolled": true
   },
   "outputs": [
    {
     "name": "stdout",
     "output_type": "stream",
     "text": [
      "depth      Training score       Testing score       \n",
      "-----      --------------       -------------       \n",
      "2        0.8985066371681416   0.9104972375690608\n",
      "3        0.9026548672566371   0.9005524861878453\n",
      "4                   0.90625   0.8928176795580111\n",
      "6        0.9222898230088495   0.8961325966850828\n",
      "max                     1.0   0.8729281767955801\n"
     ]
    }
   ],
   "source": [
    "print('{:10} {:20} {:20}'.format('depth', 'Training score','Testing score'))\n",
    "print('{:10} {:20} {:20}'.format('-----', '--------------','-------------'))\n",
    "print('{:1} {:>25} {:>20}'.format(2, dt2_score_train, dt2_score_test))\n",
    "print('{:1} {:>25} {:>20}'.format(3, dt3_score_train, dt3_score_test))\n",
    "print('{:1} {:>25} {:>20}'.format(4, dt4_score_train, dt4_score_test))\n",
    "print('{:1} {:>25} {:>20}'.format(6, dt6_score_train, dt6_score_test))\n",
    "print('{:1} {:>23} {:>20}'.format(\"max\", dt1_score_train, dt1_score_test))"
   ]
  },
  {
   "cell_type": "markdown",
   "metadata": {
    "_cell_guid": "a2ee959f-14f5-4236-8d7f-bfe781d37f49",
    "_uuid": "9262f9c49fb675e6b7a107e66ea959868b9176b4"
   },
   "source": [
    "It could be seen that, higher the depth, training score increases and matches perfects with the training data set. However higher the depth the tree goes, it overfit to the training data set. So it's no use keep increasing the tree depth. According to above observations, tree with a depth of 2 seems more reasonable as both training and test scores are reasonably high."
   ]
  }
 ],
 "metadata": {
  "kernelspec": {
   "display_name": "Python 3",
   "language": "python",
   "name": "python3"
  },
  "language_info": {
   "codemirror_mode": {
    "name": "ipython",
    "version": 3
   },
   "file_extension": ".py",
   "mimetype": "text/x-python",
   "name": "python",
   "nbconvert_exporter": "python",
   "pygments_lexer": "ipython3",
   "version": "3.6.9"
  }
 },
 "nbformat": 4,
 "nbformat_minor": 1
}
